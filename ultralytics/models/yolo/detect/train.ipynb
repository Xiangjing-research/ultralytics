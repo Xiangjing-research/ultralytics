{
 "cells": [
  {
   "cell_type": "code",
   "execution_count": 1,
   "id": "045bbef0",
   "metadata": {
    "scrolled": false
   },
   "outputs": [
    {
     "name": "stderr",
     "output_type": "stream",
     "text": [
      "Ultralytics YOLOv8.0.201  Python-3.8.13 torch-1.11.0 CUDA:0 (NVIDIA GeForce RTX 3060, 12288MiB)\n",
      "WARNING  Upgrade to torch>=2.0.0 for deterministic training.\n",
      "\u001b[34m\u001b[1mengine\\trainer: \u001b[0mtask=detect, mode=train, model=../../../cfg/models/v8/yolov8-C2f_GhostNetV2.yaml, data=../../../cfg/datasets/LLVIP-vis.yaml, epochs=50, patience=50, batch=8, imgsz=640, save=True, save_period=-1, cache=False, device=None, workers=8, project=v8_detect, name=train_C2f_GhostNetV2-LLVIP-vis4, exist_ok=False, pretrained=True, optimizer=auto, verbose=True, seed=0, deterministic=True, single_cls=False, rect=False, cos_lr=False, close_mosaic=10, resume=False, amp=True, fraction=1.0, profile=True, freeze=None, overlap_mask=True, mask_ratio=4, dropout=0.0, val=True, split=val, save_json=False, save_hybrid=False, conf=None, iou=0.7, max_det=300, half=False, dnn=False, plots=True, source=None, show=False, save_txt=False, save_conf=False, save_crop=False, show_labels=True, show_conf=True, vid_stride=1, stream_buffer=False, line_width=None, visualize=False, augment=False, agnostic_nms=False, classes=None, retina_masks=False, boxes=True, format=torchscript, keras=False, optimize=False, int8=False, dynamic=False, simplify=False, opset=None, workspace=4, nms=False, lr0=0.01, lrf=0.01, momentum=0.937, weight_decay=0.0005, warmup_epochs=3.0, warmup_momentum=0.8, warmup_bias_lr=0.1, box=7.5, cls=0.5, dfl=1.5, pose=12.0, kobj=1.0, label_smoothing=0.0, nbs=64, hsv_h=0.015, hsv_s=0.7, hsv_v=0.4, degrees=0.0, translate=0.1, scale=0.5, shear=0.0, perspective=0.0, flipud=0.0, fliplr=0.5, mosaic=1.0, mixup=0.0, copy_paste=0.0, cfg=None, tracker=botsort.yaml, save_dir=v8_detect\\train_C2f_GhostNetV2-LLVIP-vis4\n",
      "\u001b[34m\u001b[1mTensorBoard: \u001b[0mStart with 'tensorboard --logdir v8_detect\\train_C2f_GhostNetV2-LLVIP-vis4', view at http://localhost:6006/\n",
      "Overriding model.yaml nc=80 with nc=1\n",
      "WARNING  no model scale passed. Assuming scale='l'.\n",
      "\n",
      "                   from  n    params  module                                       arguments                     \n",
      "  0                  -1  1      1856  ultralytics.nn.modules.conv.Conv             [3, 64, 3, 2]                 \n",
      "  1                  -1  1     73984  ultralytics.nn.modules.conv.Conv             [64, 128, 3, 2]               \n",
      "  2                  -1  3     90505  ultralytics.nn.modules.add_modules.C2f_GhostNetV2[128, 128, 3, True]           \n",
      "  3                  -1  1    295424  ultralytics.nn.modules.conv.Conv             [128, 256, 3, 2]              \n",
      "  4                  -1  6    557586  ultralytics.nn.modules.add_modules.C2f_GhostNetV2[256, 256, 6, True]           \n",
      "  5                  -1  1   1180672  ultralytics.nn.modules.conv.Conv             [256, 512, 3, 2]              \n",
      "  6                  -1  6   2163730  ultralytics.nn.modules.add_modules.C2f_GhostNetV2[512, 512, 6, True]           \n",
      "  7                  -1  1   2360320  ultralytics.nn.modules.conv.Conv             [512, 512, 3, 2]              \n",
      "  8                  -1  3   1345033  ultralytics.nn.modules.add_modules.C2f_GhostNetV2[512, 512, 3, True]           \n",
      "  9                  -1  1    656896  ultralytics.nn.modules.block.SPPF            [512, 512, 5]                 \n",
      " 10                  -1  1         0  torch.nn.modules.upsampling.Upsample         [None, 2, 'nearest']          \n",
      " 11             [-1, 6]  1         0  ultralytics.nn.modules.conv.Concat           [1]                           \n",
      " 12                  -1  3   1400585  ultralytics.nn.modules.add_modules.C2f_GhostNetV2[1024, 512, 3]                \n",
      " 13                  -1  1         0  torch.nn.modules.upsampling.Upsample         [None, 2, 'nearest']          \n",
      " 14             [-1, 4]  1         0  ultralytics.nn.modules.conv.Concat           [1]                           \n",
      " 15                  -1  3    421769  ultralytics.nn.modules.add_modules.C2f_GhostNetV2[768, 256, 3]                 \n",
      " 16                  -1  1    590336  ultralytics.nn.modules.conv.Conv             [256, 256, 3, 2]              \n",
      " 17            [-1, 12]  1         0  ultralytics.nn.modules.conv.Concat           [1]                           \n",
      " 18                  -1  3   1269513  ultralytics.nn.modules.add_modules.C2f_GhostNetV2[768, 512, 3]                 \n",
      " 19                  -1  1   2360320  ultralytics.nn.modules.conv.Conv             [512, 512, 3, 2]              \n",
      " 20             [-1, 9]  1         0  ultralytics.nn.modules.conv.Concat           [1]                           \n",
      " 21                  -1  3   1400585  ultralytics.nn.modules.add_modules.C2f_GhostNetV2[1024, 512, 3]                \n",
      " 22        [15, 18, 21]  1   5583571  ultralytics.nn.modules.head.Detect           [1, [256, 512, 512]]          \n",
      "YOLOv8-C2f_GhostNetV2 summary: 875 layers, 21752685 parameters, 21752669 gradients, 79.1 GFLOPs\n",
      "\n",
      "Freezing layer 'model.22.dfl.conv.weight'\n",
      "\u001b[34m\u001b[1mAMP: \u001b[0mrunning Automatic Mixed Precision (AMP) checks with YOLOv8n...\n",
      "\u001b[34m\u001b[1mAMP: \u001b[0mchecks passed \n",
      "\u001b[34m\u001b[1mtrain: \u001b[0mScanning D:\\LLVIP\\labels\\visible\\train.cache... 12024 images, 1 backgrounds, 0 corrupt: 100%|██████████| 12025/1\u001b[0m\n",
      "\u001b[34m\u001b[1mval: \u001b[0mScanning D:\\LLVIP\\labels\\visible\\test.cache... 3463 images, 0 backgrounds, 0 corrupt: 100%|██████████| 3463/3463 [\u001b[0m\n",
      "Plotting labels to v8_detect\\train_C2f_GhostNetV2-LLVIP-vis4\\labels.jpg... \n",
      "\u001b[34m\u001b[1moptimizer:\u001b[0m 'optimizer=auto' found, ignoring 'lr0=0.01' and 'momentum=0.937' and determining best 'optimizer', 'lr0' and 'momentum' automatically... \n",
      "\u001b[34m\u001b[1moptimizer:\u001b[0m AdamW(lr=0.002, momentum=0.9) with parameter groups 193 weight(decay=0.0), 230 weight(decay=0.0005), 199 bias(decay=0.0)\n",
      "Image sizes 640 train, 640 val\n",
      "Using 8 dataloader workers\n",
      "Logging results to \u001b[1mv8_detect\\train_C2f_GhostNetV2-LLVIP-vis4\u001b[0m\n",
      "Starting training for 50 epochs...\n",
      "\n",
      "      Epoch    GPU_mem   box_loss   cls_loss   dfl_loss  Instances       Size\n",
      "       1/50      6.16G      5.239      4.936      4.176         28        640:   0%|          | 1/1504 [00:01<37:57,  1"
     ]
    },
    {
     "name": "stdout",
     "output_type": "stream",
     "text": [
      "Backward运行时间： 1019.9699000000066 毫秒\n"
     ]
    },
    {
     "name": "stderr",
     "output_type": "stream",
     "text": [
      "       1/50      6.16G      5.458      5.573      4.174         28        640:   0%|          | 2/1504 [00:01<21:30,  1"
     ]
    },
    {
     "name": "stdout",
     "output_type": "stream",
     "text": [
      "Backward运行时间： 134.75129999997648 毫秒\n"
     ]
    },
    {
     "name": "stderr",
     "output_type": "stream",
     "text": [
      "       1/50      6.16G       5.38       5.33      4.175         28        640:   0%|          | 3/1504 [00:02<16:19,  1"
     ]
    },
    {
     "name": "stdout",
     "output_type": "stream",
     "text": [
      "Backward运行时间： 127.94110000001524 毫秒\n"
     ]
    },
    {
     "name": "stderr",
     "output_type": "stream",
     "text": [
      "       1/50      6.16G      5.401      5.088      4.212         69        640:   0%|          | 4/1504 [00:02<13:49,  1"
     ]
    },
    {
     "name": "stdout",
     "output_type": "stream",
     "text": [
      "Backward运行时间： 126.18639999999459 毫秒\n"
     ]
    },
    {
     "name": "stderr",
     "output_type": "stream",
     "text": [
      "       1/50      6.16G      5.323      5.028      4.211         30        640:   0%|          | 5/1504 [00:03<12:22,  2"
     ]
    },
    {
     "name": "stdout",
     "output_type": "stream",
     "text": [
      "Backward运行时间： 134.58699999998203 毫秒\n"
     ]
    },
    {
     "name": "stderr",
     "output_type": "stream",
     "text": [
      "       1/50      6.16G      5.255      4.993      4.218         31        640:   0%|          | 6/1504 [00:03<11:27,  2"
     ]
    },
    {
     "name": "stdout",
     "output_type": "stream",
     "text": [
      "Backward运行时间： 136.66650000001823 毫秒\n",
      "Backward运行时间： 132.34280000000354 毫秒\n"
     ]
    },
    {
     "name": "stderr",
     "output_type": "stream",
     "text": [
      "       1/50      6.16G      5.196      4.854      4.216         65        640:   0%|          | 7/1504 [00:03<11:29,  2"
     ]
    },
    {
     "name": "stdout",
     "output_type": "stream",
     "text": [
      "Backward运行时间： 129.30609999997955 毫秒\n"
     ]
    },
    {
     "name": "stderr",
     "output_type": "stream",
     "text": [
      "       1/50      6.16G      5.172      4.912      4.217         19        640:   1%|          | 8/1504 [00:04<11:18,  2"
     ]
    },
    {
     "name": "stdout",
     "output_type": "stream",
     "text": [
      "Backward运行时间： 142.95989999999392 毫秒\n"
     ]
    },
    {
     "name": "stderr",
     "output_type": "stream",
     "text": [
      "       1/50      6.16G      5.197      4.911       4.21         38        640:   1%|          | 9/1504 [00:04<11:24,  2"
     ]
    },
    {
     "name": "stdout",
     "output_type": "stream",
     "text": [
      "Backward运行时间： 125.54230000000643 毫秒\n"
     ]
    },
    {
     "name": "stderr",
     "output_type": "stream",
     "text": [
      "       1/50      6.16G      5.242      4.929      4.207         30        640:   1%|          | 10/1504 [00:05<11:20,  "
     ]
    },
    {
     "name": "stdout",
     "output_type": "stream",
     "text": [
      "Backward运行时间： 130.33590000000572 毫秒\n"
     ]
    },
    {
     "name": "stderr",
     "output_type": "stream",
     "text": [
      "       1/50      6.16G      5.176      4.893      4.205         35        640:   1%|          | 11/1504 [00:05<11:13,  "
     ]
    },
    {
     "name": "stdout",
     "output_type": "stream",
     "text": [
      "Backward运行时间： 137.7932000000044 毫秒\n"
     ]
    },
    {
     "name": "stderr",
     "output_type": "stream",
     "text": [
      "       1/50      6.16G      5.123      4.854      4.202         28        640:   1%|          | 12/1504 [00:06<11:19,  "
     ]
    },
    {
     "name": "stdout",
     "output_type": "stream",
     "text": [
      "Backward运行时间： 135.86040000001276 毫秒\n"
     ]
    },
    {
     "name": "stderr",
     "output_type": "stream",
     "text": [
      "       1/50      6.16G      5.072      4.828        4.2         26        640:   1%|          | 13/1504 [00:06<11:17,  "
     ]
    },
    {
     "name": "stdout",
     "output_type": "stream",
     "text": [
      "Backward运行时间： 134.57780000001662 毫秒\n"
     ]
    },
    {
     "name": "stderr",
     "output_type": "stream",
     "text": [
      "       1/50      6.16G      5.086      4.814      4.198         41        640:   1%|          | 14/1504 [00:07<11:11,  "
     ]
    },
    {
     "name": "stdout",
     "output_type": "stream",
     "text": [
      "Backward运行时间： 135.38829999998825 毫秒\n"
     ]
    },
    {
     "name": "stderr",
     "output_type": "stream",
     "text": [
      "       1/50      6.16G      5.041      4.788      4.195         32        640:   1%|          | 15/1504 [00:07<11:09,  "
     ]
    },
    {
     "name": "stdout",
     "output_type": "stream",
     "text": [
      "Backward运行时间： 125.01280000000747 毫秒\n"
     ]
    },
    {
     "name": "stderr",
     "output_type": "stream",
     "text": [
      "       1/50      6.16G       5.01       4.79      4.195         26        640:   1%|          | 16/1504 [00:08<11:04,  "
     ]
    },
    {
     "name": "stdout",
     "output_type": "stream",
     "text": [
      "Backward运行时间： 135.0778000000048 毫秒\n"
     ]
    },
    {
     "name": "stderr",
     "output_type": "stream",
     "text": [
      "       1/50      6.16G      4.978      4.771      4.194         24        640:   1%|          | 17/1504 [00:08<11:08,  "
     ]
    },
    {
     "name": "stdout",
     "output_type": "stream",
     "text": [
      "Backward运行时间： 133.37210000000255 毫秒\n"
     ]
    },
    {
     "name": "stderr",
     "output_type": "stream",
     "text": [
      "       1/50      6.16G      5.014      4.769      4.194         41        640:   1%|          | 18/1504 [00:08<11:06,  "
     ]
    },
    {
     "name": "stdout",
     "output_type": "stream",
     "text": [
      "Backward运行时间： 136.84409999999048 毫秒\n"
     ]
    },
    {
     "name": "stderr",
     "output_type": "stream",
     "text": [
      "       1/50      6.16G      5.023       4.75      4.194         38        640:   1%|▏         | 19/1504 [00:09<11:05,  "
     ]
    },
    {
     "name": "stdout",
     "output_type": "stream",
     "text": [
      "Backward运行时间： 126.39820000001123 毫秒\n"
     ]
    },
    {
     "name": "stderr",
     "output_type": "stream",
     "text": [
      "       1/50      6.16G      5.033      4.726      4.193         49        640:   1%|▏         | 20/1504 [00:09<11:06,  "
     ]
    },
    {
     "name": "stdout",
     "output_type": "stream",
     "text": [
      "Backward运行时间： 135.46329999999784 毫秒\n"
     ]
    },
    {
     "name": "stderr",
     "output_type": "stream",
     "text": [
      "       1/50      6.16G      5.036      4.728      4.197         30        640:   1%|▏         | 21/1504 [00:10<11:05,  "
     ]
    },
    {
     "name": "stdout",
     "output_type": "stream",
     "text": [
      "Backward运行时间： 134.43979999999556 毫秒\n"
     ]
    },
    {
     "name": "stderr",
     "output_type": "stream",
     "text": [
      "       1/50      6.16G      5.055      4.733      4.197         40        640:   1%|▏         | 22/1504 [00:10<11:02,  "
     ]
    },
    {
     "name": "stdout",
     "output_type": "stream",
     "text": [
      "Backward运行时间： 134.5803000000103 毫秒\n"
     ]
    },
    {
     "name": "stderr",
     "output_type": "stream",
     "text": [
      "       1/50      6.16G      5.031      4.711      4.196         32        640:   2%|▏         | 24/1504 [00:11<10:39,  "
     ]
    },
    {
     "name": "stdout",
     "output_type": "stream",
     "text": [
      "Backward运行时间： 129.5191000000102 毫秒\n",
      "Backward运行时间： 139.6239000000037 毫秒\n"
     ]
    },
    {
     "name": "stderr",
     "output_type": "stream",
     "text": [
      "       1/50      6.16G      5.028      4.716      4.196         38        640:   2%|▏         | 25/1504 [00:12<10:45,  "
     ]
    },
    {
     "name": "stdout",
     "output_type": "stream",
     "text": [
      "Backward运行时间： 136.18189999999686 毫秒\n"
     ]
    },
    {
     "name": "stderr",
     "output_type": "stream",
     "text": [
      "\r",
      "       1/50      6.16G      5.028      4.716      4.196         38        640:   2%|▏         | 26/1504 [00:12<10:51,  "
     ]
    },
    {
     "name": "stdout",
     "output_type": "stream",
     "text": [
      "Backward运行时间： 132.7526999999975 毫秒\n"
     ]
    },
    {
     "name": "stderr",
     "output_type": "stream",
     "text": [
      "       1/50      6.16G      5.054      4.708      4.197         47        640:   2%|▏         | 27/1504 [00:12<10:51,  "
     ]
    },
    {
     "name": "stdout",
     "output_type": "stream",
     "text": [
      "Backward运行时间： 137.35750000000735 毫秒\n"
     ]
    },
    {
     "name": "stderr",
     "output_type": "stream",
     "text": [
      "       1/50      6.16G      5.072      4.694      4.197         54        640:   2%|▏         | 28/1504 [00:13<11:01,  "
     ]
    },
    {
     "name": "stdout",
     "output_type": "stream",
     "text": [
      "Backward运行时间： 126.52919999999312 毫秒\n"
     ]
    },
    {
     "name": "stderr",
     "output_type": "stream",
     "text": [
      "       1/50      6.16G      5.056      4.709      4.195         17        640:   2%|▏         | 29/1504 [00:13<10:58,  "
     ]
    },
    {
     "name": "stdout",
     "output_type": "stream",
     "text": [
      "Backward运行时间： 132.70420000000627 毫秒\n"
     ]
    },
    {
     "name": "stderr",
     "output_type": "stream",
     "text": [
      "       1/50      6.16G      5.034       4.71      4.193         25        640:   2%|▏         | 30/1504 [00:14<11:05,  "
     ]
    },
    {
     "name": "stdout",
     "output_type": "stream",
     "text": [
      "Backward运行时间： 126.93010000000982 毫秒\n"
     ]
    },
    {
     "name": "stderr",
     "output_type": "stream",
     "text": [
      "       1/50      6.16G      5.034      4.694      4.192         47        640:   2%|▏         | 31/1504 [00:14<11:09,  "
     ]
    },
    {
     "name": "stdout",
     "output_type": "stream",
     "text": [
      "Backward运行时间： 127.91730000000712 毫秒\n"
     ]
    },
    {
     "name": "stderr",
     "output_type": "stream",
     "text": [
      "       1/50      6.16G      5.047      4.693      4.192         42        640:   2%|▏         | 32/1504 [00:15<11:07,  "
     ]
    },
    {
     "name": "stdout",
     "output_type": "stream",
     "text": [
      "Backward运行时间： 137.03190000001086 毫秒\n"
     ]
    },
    {
     "name": "stderr",
     "output_type": "stream",
     "text": [
      "       1/50      6.16G       5.05      4.679      4.191         55        640:   2%|▏         | 33/1504 [00:15<11:01,  "
     ]
    },
    {
     "name": "stdout",
     "output_type": "stream",
     "text": [
      "Backward运行时间： 128.553299999993 毫秒\n"
     ]
    },
    {
     "name": "stderr",
     "output_type": "stream",
     "text": [
      "       1/50      6.16G       5.05      4.686      4.191         25        640:   2%|▏         | 34/1504 [00:16<11:01,  "
     ]
    },
    {
     "name": "stdout",
     "output_type": "stream",
     "text": [
      "Backward运行时间： 137.96890000000417 毫秒\n"
     ]
    },
    {
     "name": "stderr",
     "output_type": "stream",
     "text": [
      "       1/50      6.16G      5.035      4.691      4.193         26        640:   2%|▏         | 35/1504 [00:16<11:00,  "
     ]
    },
    {
     "name": "stdout",
     "output_type": "stream",
     "text": [
      "Backward运行时间： 139.25789999998983 毫秒\n"
     ]
    },
    {
     "name": "stderr",
     "output_type": "stream",
     "text": [
      "       1/50      6.16G       5.05        4.7      4.194         32        640:   2%|▏         | 36/1504 [00:16<10:57,  "
     ]
    },
    {
     "name": "stdout",
     "output_type": "stream",
     "text": [
      "Backward运行时间： 128.59560000001125 毫秒\n"
     ]
    },
    {
     "name": "stderr",
     "output_type": "stream",
     "text": [
      "       1/50      6.16G      5.048      4.697      4.193         35        640:   2%|▏         | 37/1504 [00:17<11:00,  "
     ]
    },
    {
     "name": "stdout",
     "output_type": "stream",
     "text": [
      "Backward运行时间： 129.9427999999807 毫秒\n"
     ]
    },
    {
     "name": "stderr",
     "output_type": "stream",
     "text": [
      "       1/50      6.16G      5.047      4.692      4.192         37        640:   3%|▎         | 38/1504 [00:17<11:04,  "
     ]
    },
    {
     "name": "stdout",
     "output_type": "stream",
     "text": [
      "Backward运行时间： 132.8499999999906 毫秒\n"
     ]
    },
    {
     "name": "stderr",
     "output_type": "stream",
     "text": [
      "       1/50      6.16G       5.05      4.691      4.192         32        640:   3%|▎         | 39/1504 [00:18<11:04,  "
     ]
    },
    {
     "name": "stdout",
     "output_type": "stream",
     "text": [
      "Backward运行时间： 129.8187000000155 毫秒\n"
     ]
    },
    {
     "name": "stderr",
     "output_type": "stream",
     "text": [
      "       1/50      6.16G      5.057      4.683      4.193         50        640:   3%|▎         | 40/1504 [00:18<11:06,  "
     ]
    },
    {
     "name": "stdout",
     "output_type": "stream",
     "text": [
      "Backward运行时间： 135.3574999999978 毫秒\n"
     ]
    },
    {
     "name": "stderr",
     "output_type": "stream",
     "text": [
      "       1/50      6.16G      5.052      4.672      4.192         37        640:   3%|▎         | 41/1504 [00:19<11:03,  "
     ]
    },
    {
     "name": "stdout",
     "output_type": "stream",
     "text": [
      "Backward运行时间： 147.30550000001585 毫秒\n"
     ]
    },
    {
     "name": "stderr",
     "output_type": "stream",
     "text": [
      "       1/50      6.16G      5.053      4.679      4.192         21        640:   3%|▎         | 42/1504 [00:19<11:24,  "
     ]
    },
    {
     "name": "stdout",
     "output_type": "stream",
     "text": [
      "Backward运行时间： 132.0107999999891 毫秒\n"
     ]
    },
    {
     "name": "stderr",
     "output_type": "stream",
     "text": [
      "       1/50      6.16G      5.056      4.673      4.191         38        640:   3%|▎         | 43/1504 [00:20<11:30,  "
     ]
    },
    {
     "name": "stdout",
     "output_type": "stream",
     "text": [
      "Backward运行时间： 149.0378000000021 毫秒\n"
     ]
    },
    {
     "name": "stderr",
     "output_type": "stream",
     "text": [
      "       1/50      6.16G      5.045      4.667       4.19         28        640:   3%|▎         | 44/1504 [00:20<11:43,  "
     ]
    },
    {
     "name": "stdout",
     "output_type": "stream",
     "text": [
      "Backward运行时间： 148.02199999999743 毫秒\n"
     ]
    },
    {
     "name": "stderr",
     "output_type": "stream",
     "text": [
      "       1/50      6.16G      5.034      4.661      4.189         32        640:   3%|▎         | 45/1504 [00:21<11:48,  "
     ]
    },
    {
     "name": "stdout",
     "output_type": "stream",
     "text": [
      "Backward运行时间： 129.31320000001278 毫秒\n"
     ]
    },
    {
     "name": "stderr",
     "output_type": "stream",
     "text": [
      "       1/50      6.16G      5.037      4.664      4.189         31        640:   3%|▎         | 46/1504 [00:21<11:37,  "
     ]
    },
    {
     "name": "stdout",
     "output_type": "stream",
     "text": [
      "Backward运行时间： 139.6146000000158 毫秒\n"
     ]
    },
    {
     "name": "stderr",
     "output_type": "stream",
     "text": [
      "       1/50      6.16G      5.033      4.665      4.188         21        640:   3%|▎         | 47/1504 [00:22<11:40,  "
     ]
    },
    {
     "name": "stdout",
     "output_type": "stream",
     "text": [
      "Backward运行时间： 134.6497000000113 毫秒\n"
     ]
    },
    {
     "name": "stderr",
     "output_type": "stream",
     "text": [
      "       1/50      6.16G      5.038      4.667      4.188         30        640:   3%|▎         | 48/1504 [00:22<11:27,  "
     ]
    },
    {
     "name": "stdout",
     "output_type": "stream",
     "text": [
      "Backward运行时间： 129.05219999998963 毫秒\n"
     ]
    },
    {
     "name": "stderr",
     "output_type": "stream",
     "text": [
      "       1/50      6.16G       5.03      4.658      4.187         32        640:   3%|▎         | 49/1504 [00:23<11:26,  "
     ]
    },
    {
     "name": "stdout",
     "output_type": "stream",
     "text": [
      "Backward运行时间： 136.24550000000113 毫秒\n"
     ]
    },
    {
     "name": "stderr",
     "output_type": "stream",
     "text": [
      "       1/50      6.16G      5.023       4.66      4.186         29        640:   3%|▎         | 50/1504 [00:23<11:15,  "
     ]
    },
    {
     "name": "stdout",
     "output_type": "stream",
     "text": [
      "Backward运行时间： 130.39960000000406 毫秒\n"
     ]
    },
    {
     "name": "stderr",
     "output_type": "stream",
     "text": [
      "       1/50      6.16G      5.026       4.66      4.185         30        640:   3%|▎         | 51/1504 [00:23<11:07,  "
     ]
    },
    {
     "name": "stdout",
     "output_type": "stream",
     "text": [
      "Backward运行时间： 145.46689999997398 毫秒\n"
     ]
    },
    {
     "name": "stderr",
     "output_type": "stream",
     "text": [
      "       1/50      6.16G      5.031      4.654      4.184         44        640:   3%|▎         | 52/1504 [00:24<11:18,  "
     ]
    },
    {
     "name": "stdout",
     "output_type": "stream",
     "text": [
      "Backward运行时间： 134.3093000000124 毫秒\n"
     ]
    },
    {
     "name": "stderr",
     "output_type": "stream",
     "text": [
      "       1/50      6.16G      5.026      4.649      4.184         32        640:   4%|▎         | 53/1504 [00:24<11:21,  "
     ]
    },
    {
     "name": "stdout",
     "output_type": "stream",
     "text": [
      "Backward运行时间： 134.01980000000435 毫秒\n"
     ]
    },
    {
     "name": "stderr",
     "output_type": "stream",
     "text": [
      "       1/50      6.16G      5.034      4.645      4.184         43        640:   4%|▎         | 54/1504 [00:25<11:08,  "
     ]
    },
    {
     "name": "stdout",
     "output_type": "stream",
     "text": [
      "Backward运行时间： 135.21819999999707 毫秒\n"
     ]
    },
    {
     "name": "stderr",
     "output_type": "stream",
     "text": [
      "       1/50      6.16G      5.037       4.64      4.184         46        640:   4%|▎         | 55/1504 [00:25<11:05,  "
     ]
    },
    {
     "name": "stdout",
     "output_type": "stream",
     "text": [
      "Backward运行时间： 133.84529999999017 毫秒\n"
     ]
    },
    {
     "name": "stderr",
     "output_type": "stream",
     "text": [
      "       1/50      6.16G      5.027      4.638      4.184         29        640:   4%|▎         | 56/1504 [00:26<11:03,  "
     ]
    },
    {
     "name": "stdout",
     "output_type": "stream",
     "text": [
      "Backward运行时间： 138.63220000001775 毫秒\n"
     ]
    },
    {
     "name": "stderr",
     "output_type": "stream",
     "text": [
      "       1/50      6.16G      5.019      4.641      4.183         19        640:   4%|▍         | 57/1504 [00:26<10:58,  "
     ]
    },
    {
     "name": "stdout",
     "output_type": "stream",
     "text": [
      "Backward运行时间： 137.15609999999856 毫秒\n"
     ]
    },
    {
     "name": "stderr",
     "output_type": "stream",
     "text": [
      "       1/50      6.16G      5.015      4.643      4.182         23        640:   4%|▍         | 58/1504 [00:27<10:56,  "
     ]
    },
    {
     "name": "stdout",
     "output_type": "stream",
     "text": [
      "Backward运行时间： 140.30889999997953 毫秒\n"
     ]
    },
    {
     "name": "stderr",
     "output_type": "stream",
     "text": [
      "       1/50      6.16G      4.997      4.638      4.181         20        640:   4%|▍         | 59/1504 [00:27<11:21,  "
     ]
    },
    {
     "name": "stdout",
     "output_type": "stream",
     "text": [
      "Backward运行时间： 152.30189999999766 毫秒\n"
     ]
    },
    {
     "name": "stderr",
     "output_type": "stream",
     "text": [
      "       1/50      6.16G       4.99      4.633      4.182         35        640:   4%|▍         | 60/1504 [00:28<11:34,  "
     ]
    },
    {
     "name": "stdout",
     "output_type": "stream",
     "text": [
      "Backward运行时间： 136.25170000000253 毫秒\n"
     ]
    },
    {
     "name": "stderr",
     "output_type": "stream",
     "text": [
      "       1/50      6.16G      4.994      4.633      4.181         33        640:   4%|▍         | 61/1504 [00:28<11:26,  "
     ]
    },
    {
     "name": "stdout",
     "output_type": "stream",
     "text": [
      "Backward运行时间： 133.37569999998777 毫秒\n"
     ]
    },
    {
     "name": "stderr",
     "output_type": "stream",
     "text": [
      "       1/50      6.16G      4.991      4.627      4.181         43        640:   4%|▍         | 62/1504 [00:29<11:13,  "
     ]
    },
    {
     "name": "stdout",
     "output_type": "stream",
     "text": [
      "Backward运行时间： 132.37739999999576 毫秒\n"
     ]
    },
    {
     "name": "stderr",
     "output_type": "stream",
     "text": [
      "       1/50      6.16G      4.989       4.62       4.18         31        640:   4%|▍         | 63/1504 [00:29<11:06,  "
     ]
    },
    {
     "name": "stdout",
     "output_type": "stream",
     "text": [
      "Backward运行时间： 130.90569999999957 毫秒\n"
     ]
    },
    {
     "name": "stderr",
     "output_type": "stream",
     "text": [
      "       1/50      6.16G      4.997      4.614      4.179         62        640:   4%|▍         | 64/1504 [00:30<11:08,  "
     ]
    },
    {
     "name": "stdout",
     "output_type": "stream",
     "text": [
      "Backward运行时间： 139.5193999999833 毫秒\n"
     ]
    },
    {
     "name": "stderr",
     "output_type": "stream",
     "text": [
      "       1/50      6.16G      4.999      4.607      4.178         42        640:   4%|▍         | 65/1504 [00:30<11:03,  "
     ]
    },
    {
     "name": "stdout",
     "output_type": "stream",
     "text": [
      "Backward运行时间： 129.6796000000029 毫秒\n"
     ]
    },
    {
     "name": "stderr",
     "output_type": "stream",
     "text": [
      "       1/50      6.16G      5.006      4.615      4.177         30        640:   4%|▍         | 66/1504 [00:30<11:05,  "
     ]
    },
    {
     "name": "stdout",
     "output_type": "stream",
     "text": [
      "Backward运行时间： 134.56119999997895 毫秒\n"
     ]
    },
    {
     "name": "stderr",
     "output_type": "stream",
     "text": [
      "       1/50      6.16G      5.004      4.618      4.177         23        640:   4%|▍         | 67/1504 [00:31<11:00,  "
     ]
    },
    {
     "name": "stdout",
     "output_type": "stream",
     "text": [
      "Backward运行时间： 143.71829999998909 毫秒\n"
     ]
    },
    {
     "name": "stderr",
     "output_type": "stream",
     "text": [
      "       1/50      6.16G      4.998       4.61      4.176         44        640:   5%|▍         | 68/1504 [00:31<11:18,  "
     ]
    },
    {
     "name": "stdout",
     "output_type": "stream",
     "text": [
      "Backward运行时间： 139.5373999999947 毫秒\n"
     ]
    },
    {
     "name": "stderr",
     "output_type": "stream",
     "text": [
      "       1/50      6.16G      4.995      4.604      4.176         31        640:   5%|▍         | 69/1504 [00:32<11:20,  "
     ]
    },
    {
     "name": "stdout",
     "output_type": "stream",
     "text": [
      "Backward运行时间： 140.07349999999974 毫秒\n"
     ]
    },
    {
     "name": "stderr",
     "output_type": "stream",
     "text": [
      "       1/50      6.16G      4.987      4.598      4.175         33        640:   5%|▍         | 70/1504 [00:32<11:08,  "
     ]
    },
    {
     "name": "stdout",
     "output_type": "stream",
     "text": [
      "Backward运行时间： 147.28969999998753 毫秒\n"
     ]
    },
    {
     "name": "stderr",
     "output_type": "stream",
     "text": [
      "       1/50      6.16G      4.991      4.593      4.174         32        640:   5%|▍         | 71/1504 [00:33<11:28,  "
     ]
    },
    {
     "name": "stdout",
     "output_type": "stream",
     "text": [
      "Backward运行时间： 170.58869999999615 毫秒\n"
     ]
    },
    {
     "name": "stderr",
     "output_type": "stream",
     "text": [
      "       1/50      6.16G      4.986      4.586      4.173         41        640:   5%|▍         | 72/1504 [00:33<11:39,  "
     ]
    },
    {
     "name": "stdout",
     "output_type": "stream",
     "text": [
      "Backward运行时间： 131.69059999998467 毫秒\n"
     ]
    },
    {
     "name": "stderr",
     "output_type": "stream",
     "text": [
      "       1/50      6.16G      4.991      4.579      4.172         50        640:   5%|▍         | 73/1504 [00:34<11:29,  "
     ]
    },
    {
     "name": "stdout",
     "output_type": "stream",
     "text": [
      "Backward运行时间： 138.4723999999835 毫秒\n"
     ]
    },
    {
     "name": "stderr",
     "output_type": "stream",
     "text": [
      "       1/50      6.16G       4.99      4.582      4.171         29        640:   5%|▍         | 74/1504 [00:34<11:25,  "
     ]
    },
    {
     "name": "stdout",
     "output_type": "stream",
     "text": [
      "Backward运行时间： 136.39689999999405 毫秒\n"
     ]
    },
    {
     "name": "stderr",
     "output_type": "stream",
     "text": [
      "       1/50      6.16G      4.986      4.584      4.172         32        640:   5%|▍         | 75/1504 [00:35<11:30,  "
     ]
    },
    {
     "name": "stdout",
     "output_type": "stream",
     "text": [
      "Backward运行时间： 133.09080000001927 毫秒\n"
     ]
    },
    {
     "name": "stderr",
     "output_type": "stream",
     "text": [
      "       1/50      6.16G      4.993      4.581      4.173         55        640:   5%|▌         | 76/1504 [00:35<11:32,  "
     ]
    },
    {
     "name": "stdout",
     "output_type": "stream",
     "text": [
      "Backward运行时间： 132.31089999999313 毫秒\n"
     ]
    },
    {
     "name": "stderr",
     "output_type": "stream",
     "text": [
      "       1/50      6.16G      4.991      4.577      4.172         38        640:   5%|▌         | 77/1504 [00:36<11:29,  "
     ]
    },
    {
     "name": "stdout",
     "output_type": "stream",
     "text": [
      "Backward运行时间： 130.86730000000557 毫秒\n"
     ]
    },
    {
     "name": "stderr",
     "output_type": "stream",
     "text": [
      "       1/50      6.16G      4.992      4.569      4.171         50        640:   5%|▌         | 78/1504 [00:36<11:28,  "
     ]
    },
    {
     "name": "stdout",
     "output_type": "stream",
     "text": [
      "Backward运行时间： 129.53219999999988 毫秒\n"
     ]
    },
    {
     "name": "stderr",
     "output_type": "stream",
     "text": [
      "       1/50      6.16G      4.994      4.561       4.17         64        640:   5%|▌         | 79/1504 [00:37<11:15,  "
     ]
    },
    {
     "name": "stdout",
     "output_type": "stream",
     "text": [
      "Backward运行时间： 133.30460000000244 毫秒\n"
     ]
    },
    {
     "name": "stderr",
     "output_type": "stream",
     "text": [
      "       1/50      6.16G      4.994      4.554       4.17         40        640:   5%|▌         | 80/1504 [00:37<11:05,  "
     ]
    },
    {
     "name": "stdout",
     "output_type": "stream",
     "text": [
      "Backward运行时间： 129.1372000000024 毫秒\n"
     ]
    },
    {
     "name": "stderr",
     "output_type": "stream",
     "text": [
      "       1/50      6.16G      4.985      4.556       4.17         18        640:   5%|▌         | 81/1504 [00:38<11:05,  "
     ]
    },
    {
     "name": "stdout",
     "output_type": "stream",
     "text": [
      "Backward运行时间： 135.99640000001045 毫秒\n"
     ]
    },
    {
     "name": "stderr",
     "output_type": "stream",
     "text": [
      "       1/50      6.16G      4.991       4.56       4.17         32        640:   5%|▌         | 82/1504 [00:38<10:57,  "
     ]
    },
    {
     "name": "stdout",
     "output_type": "stream",
     "text": [
      "Backward运行时间： 136.65210000002048 毫秒\n"
     ]
    },
    {
     "name": "stderr",
     "output_type": "stream",
     "text": [
      "       1/50      6.16G      4.993      4.556      4.168         42        640:   6%|▌         | 83/1504 [00:39<10:49,  "
     ]
    },
    {
     "name": "stdout",
     "output_type": "stream",
     "text": [
      "Backward运行时间： 152.5464999999997 毫秒\n"
     ]
    },
    {
     "name": "stderr",
     "output_type": "stream",
     "text": [
      "       1/50      6.16G      4.999      4.555      4.168         48        640:   6%|▌         | 84/1504 [00:39<10:52,  "
     ]
    },
    {
     "name": "stdout",
     "output_type": "stream",
     "text": [
      "Backward运行时间： 134.6248999999773 毫秒\n"
     ]
    },
    {
     "name": "stderr",
     "output_type": "stream",
     "text": [
      "       1/50      6.16G          5      4.553      4.168         40        640:   6%|▌         | 85/1504 [00:39<10:57,  "
     ]
    },
    {
     "name": "stdout",
     "output_type": "stream",
     "text": [
      "Backward运行时间： 127.55559999999377 毫秒\n"
     ]
    },
    {
     "name": "stderr",
     "output_type": "stream",
     "text": [
      "       1/50      6.16G      4.995      4.545      4.167         45        640:   6%|▌         | 86/1504 [00:40<10:52,  "
     ]
    },
    {
     "name": "stdout",
     "output_type": "stream",
     "text": [
      "Backward运行时间： 150.2428000000009 毫秒\n"
     ]
    },
    {
     "name": "stderr",
     "output_type": "stream",
     "text": [
      "       1/50      6.16G      4.994      4.546      4.167         25        640:   6%|▌         | 87/1504 [00:40<11:03,  "
     ]
    },
    {
     "name": "stdout",
     "output_type": "stream",
     "text": [
      "Backward运行时间： 135.07150000000934 毫秒\n"
     ]
    },
    {
     "name": "stderr",
     "output_type": "stream",
     "text": [
      "       1/50      6.16G      4.994      4.539      4.166         40        640:   6%|▌         | 88/1504 [00:41<10:58,  "
     ]
    },
    {
     "name": "stdout",
     "output_type": "stream",
     "text": [
      "Backward运行时间： 141.2385999999799 毫秒\n"
     ]
    },
    {
     "name": "stderr",
     "output_type": "stream",
     "text": [
      "       1/50      6.16G      4.987      4.539      4.164         21        640:   6%|▌         | 89/1504 [00:41<10:54,  "
     ]
    },
    {
     "name": "stdout",
     "output_type": "stream",
     "text": [
      "Backward运行时间： 136.68660000001864 毫秒\n"
     ]
    },
    {
     "name": "stderr",
     "output_type": "stream",
     "text": [
      "       1/50      6.16G      4.974      4.535      4.163         23        640:   6%|▌         | 90/1504 [00:42<11:00,  "
     ]
    },
    {
     "name": "stdout",
     "output_type": "stream",
     "text": [
      "Backward运行时间： 141.06499999999755 毫秒\n"
     ]
    },
    {
     "name": "stderr",
     "output_type": "stream",
     "text": [
      "       1/50      6.16G      4.964      4.538      4.163         13        640:   6%|▌         | 91/1504 [00:42<10:58,  "
     ]
    },
    {
     "name": "stdout",
     "output_type": "stream",
     "text": [
      "Backward运行时间： 129.08369999999536 毫秒\n"
     ]
    },
    {
     "name": "stderr",
     "output_type": "stream",
     "text": [
      "       1/50      6.16G       4.97      4.537      4.162         31        640:   6%|▌         | 92/1504 [00:43<10:49,  "
     ]
    },
    {
     "name": "stdout",
     "output_type": "stream",
     "text": [
      "Backward运行时间： 130.35749999997392 毫秒\n"
     ]
    },
    {
     "name": "stderr",
     "output_type": "stream",
     "text": [
      "       1/50      6.16G       4.97       4.53      4.161         52        640:   6%|▌         | 93/1504 [00:43<10:49,  "
     ]
    },
    {
     "name": "stdout",
     "output_type": "stream",
     "text": [
      "Backward运行时间： 131.8188000000191 毫秒\n"
     ]
    },
    {
     "name": "stderr",
     "output_type": "stream",
     "text": [
      "       1/50      6.16G      4.963      4.524       4.16         33        640:   6%|▋         | 94/1504 [00:44<10:49,  "
     ]
    },
    {
     "name": "stdout",
     "output_type": "stream",
     "text": [
      "Backward运行时间： 131.05479999998693 毫秒\n"
     ]
    },
    {
     "name": "stderr",
     "output_type": "stream",
     "text": [
      "       1/50      6.16G      4.967      4.518      4.159         43        640:   6%|▋         | 95/1504 [00:44<10:44,  "
     ]
    },
    {
     "name": "stdout",
     "output_type": "stream",
     "text": [
      "Backward运行时间： 128.93569999999954 毫秒\n"
     ]
    },
    {
     "name": "stderr",
     "output_type": "stream",
     "text": [
      "       1/50      6.16G      4.962      4.511      4.158         45        640:   6%|▋         | 96/1504 [00:45<10:38,  "
     ]
    },
    {
     "name": "stdout",
     "output_type": "stream",
     "text": [
      "Backward运行时间： 128.82809999999267 毫秒\n"
     ]
    },
    {
     "name": "stderr",
     "output_type": "stream",
     "text": [
      "       1/50      6.16G      4.955      4.505      4.157         27        640:   6%|▋         | 97/1504 [00:45<10:42,  "
     ]
    },
    {
     "name": "stdout",
     "output_type": "stream",
     "text": [
      "Backward运行时间： 134.39610000000357 毫秒\n"
     ]
    },
    {
     "name": "stderr",
     "output_type": "stream",
     "text": [
      "       1/50      6.16G      4.947      4.498      4.156         43        640:   7%|▋         | 98/1504 [00:45<10:46,  "
     ]
    },
    {
     "name": "stdout",
     "output_type": "stream",
     "text": [
      "Backward运行时间： 129.37699999997676 毫秒\n"
     ]
    },
    {
     "name": "stderr",
     "output_type": "stream",
     "text": [
      "       1/50      6.16G      4.943      4.496      4.155         22        640:   7%|▋         | 99/1504 [00:46<10:48,  "
     ]
    },
    {
     "name": "stdout",
     "output_type": "stream",
     "text": [
      "Backward运行时间： 135.9634000000085 毫秒\n"
     ]
    },
    {
     "name": "stderr",
     "output_type": "stream",
     "text": [
      "       1/50      6.16G      4.946       4.49      4.154         53        640:   7%|▋         | 100/1504 [00:46<10:40, "
     ]
    },
    {
     "name": "stdout",
     "output_type": "stream",
     "text": [
      "Backward运行时间： 138.17829999999276 毫秒\n"
     ]
    },
    {
     "name": "stderr",
     "output_type": "stream",
     "text": [
      "       1/50      6.16G      4.948      4.483      4.153         54        640:   7%|▋         | 101/1504 [00:47<10:44, "
     ]
    },
    {
     "name": "stdout",
     "output_type": "stream",
     "text": [
      "Backward运行时间： 140.93950000000177 毫秒\n"
     ]
    },
    {
     "name": "stderr",
     "output_type": "stream",
     "text": [
      "       1/50      6.16G      4.947      4.479      4.152         30        640:   7%|▋         | 102/1504 [00:47<10:39, "
     ]
    },
    {
     "name": "stdout",
     "output_type": "stream",
     "text": [
      "Backward运行时间： 136.1534999999776 毫秒\n"
     ]
    },
    {
     "name": "stderr",
     "output_type": "stream",
     "text": [
      "       1/50      6.16G      4.946      4.478      4.151         25        640:   7%|▋         | 103/1504 [00:48<10:37, "
     ]
    },
    {
     "name": "stdout",
     "output_type": "stream",
     "text": [
      "Backward运行时间： 136.77390000000855 毫秒\n"
     ]
    },
    {
     "name": "stderr",
     "output_type": "stream",
     "text": [
      "       1/50      6.16G      4.944      4.476       4.15         27        640:   7%|▋         | 104/1504 [00:48<10:41, "
     ]
    },
    {
     "name": "stdout",
     "output_type": "stream",
     "text": [
      "Backward运行时间： 130.42319999999563 毫秒\n"
     ]
    },
    {
     "name": "stderr",
     "output_type": "stream",
     "text": [
      "       1/50      6.16G      4.943      4.472      4.149         36        640:   7%|▋         | 105/1504 [00:49<10:37, "
     ]
    },
    {
     "name": "stdout",
     "output_type": "stream",
     "text": [
      "Backward运行时间： 130.12909999997646 毫秒\n"
     ]
    },
    {
     "name": "stderr",
     "output_type": "stream",
     "text": [
      "       1/50      6.16G      4.946      4.469      4.148         41        640:   7%|▋         | 106/1504 [00:49<10:41, "
     ]
    },
    {
     "name": "stdout",
     "output_type": "stream",
     "text": [
      "Backward运行时间： 137.29440000000181 毫秒\n"
     ]
    },
    {
     "name": "stderr",
     "output_type": "stream",
     "text": [
      "       1/50      6.16G      4.944      4.466      4.148         34        640:   7%|▋         | 107/1504 [00:50<10:47, "
     ]
    },
    {
     "name": "stdout",
     "output_type": "stream",
     "text": [
      "Backward运行时间： 132.4521999999888 毫秒\n"
     ]
    },
    {
     "name": "stderr",
     "output_type": "stream",
     "text": [
      "       1/50      6.16G      4.934      4.461      4.148         33        640:   7%|▋         | 108/1504 [00:50<10:39, "
     ]
    },
    {
     "name": "stdout",
     "output_type": "stream",
     "text": [
      "Backward运行时间： 128.07520000001205 毫秒\n"
     ]
    },
    {
     "name": "stderr",
     "output_type": "stream",
     "text": [
      "       1/50      6.16G      4.933      4.457      4.146         37        640:   7%|▋         | 109/1504 [00:50<10:37, "
     ]
    },
    {
     "name": "stdout",
     "output_type": "stream",
     "text": [
      "Backward运行时间： 132.86140000002433 毫秒\n"
     ]
    },
    {
     "name": "stderr",
     "output_type": "stream",
     "text": [
      "       1/50      6.16G      4.927      4.459      4.146         19        640:   7%|▋         | 110/1504 [00:51<10:46, "
     ]
    },
    {
     "name": "stdout",
     "output_type": "stream",
     "text": [
      "Backward运行时间： 135.3851000000077 毫秒\n"
     ]
    },
    {
     "name": "stderr",
     "output_type": "stream",
     "text": [
      "       1/50      6.16G      4.921      4.453      4.145         32        640:   7%|▋         | 111/1504 [00:51<10:42, "
     ]
    },
    {
     "name": "stdout",
     "output_type": "stream",
     "text": [
      "Backward运行时间： 139.1332000000034 毫秒\n"
     ]
    },
    {
     "name": "stderr",
     "output_type": "stream",
     "text": [
      "       1/50      6.16G      4.919      4.445      4.143         50        640:   7%|▋         | 112/1504 [00:52<10:39, "
     ]
    },
    {
     "name": "stdout",
     "output_type": "stream",
     "text": [
      "Backward运行时间： 131.41189999998915 毫秒\n"
     ]
    },
    {
     "name": "stderr",
     "output_type": "stream",
     "text": [
      "       1/50      6.16G      4.914      4.441      4.142         34        640:   8%|▊         | 113/1504 [00:52<10:40, "
     ]
    },
    {
     "name": "stdout",
     "output_type": "stream",
     "text": [
      "Backward运行时间： 137.70390000001953 毫秒\n"
     ]
    },
    {
     "name": "stderr",
     "output_type": "stream",
     "text": [
      "       1/50      6.16G      4.913      4.435      4.141         45        640:   8%|▊         | 114/1504 [00:53<10:48, "
     ]
    },
    {
     "name": "stdout",
     "output_type": "stream",
     "text": [
      "Backward运行时间： 138.8889999999776 毫秒\n"
     ]
    },
    {
     "name": "stderr",
     "output_type": "stream",
     "text": [
      "       1/50      6.16G      4.917      4.433      4.139         35        640:   8%|▊         | 115/1504 [00:53<11:02, "
     ]
    },
    {
     "name": "stdout",
     "output_type": "stream",
     "text": [
      "Backward运行时间： 143.95539999998164 毫秒\n"
     ]
    },
    {
     "name": "stderr",
     "output_type": "stream",
     "text": [
      "       1/50      6.16G      4.916      4.427      4.138         46        640:   8%|▊         | 116/1504 [00:54<11:24, "
     ]
    },
    {
     "name": "stdout",
     "output_type": "stream",
     "text": [
      "Backward运行时间： 238.80159999998796 毫秒\n"
     ]
    },
    {
     "name": "stderr",
     "output_type": "stream",
     "text": [
      "       1/50      6.16G      4.909      4.426      4.137         25        640:   8%|▊         | 117/1504 [00:55<13:03, "
     ]
    },
    {
     "name": "stdout",
     "output_type": "stream",
     "text": [
      "Backward运行时间： 135.37059999998746 毫秒\n"
     ]
    },
    {
     "name": "stderr",
     "output_type": "stream",
     "text": [
      "       1/50      6.16G      4.904      4.423      4.135         25        640:   8%|▊         | 118/1504 [00:55<12:28, "
     ]
    },
    {
     "name": "stdout",
     "output_type": "stream",
     "text": [
      "Backward运行时间： 131.0728999999924 毫秒\n"
     ]
    },
    {
     "name": "stderr",
     "output_type": "stream",
     "text": [
      "       1/50      6.16G      4.898      4.417      4.134         48        640:   8%|▊         | 119/1504 [00:56<11:58, "
     ]
    },
    {
     "name": "stdout",
     "output_type": "stream",
     "text": [
      "Backward运行时间： 133.30300000001216 毫秒\n"
     ]
    },
    {
     "name": "stderr",
     "output_type": "stream",
     "text": [
      "       1/50      6.16G      4.897      4.419      4.133         25        640:   8%|▊         | 120/1504 [00:56<11:57, "
     ]
    },
    {
     "name": "stdout",
     "output_type": "stream",
     "text": [
      "Backward运行时间： 143.31269999999563 毫秒\n"
     ]
    },
    {
     "name": "stderr",
     "output_type": "stream",
     "text": [
      "       1/50      6.16G      4.894      4.415      4.132         45        640:   8%|▊         | 121/1504 [00:57<11:44, "
     ]
    },
    {
     "name": "stdout",
     "output_type": "stream",
     "text": [
      "Backward运行时间： 138.45549999999207 毫秒\n"
     ]
    },
    {
     "name": "stderr",
     "output_type": "stream",
     "text": [
      "       1/50      6.16G      4.891      4.413       4.13         30        640:   8%|▊         | 122/1504 [00:57<11:26, "
     ]
    },
    {
     "name": "stdout",
     "output_type": "stream",
     "text": [
      "Backward运行时间： 136.03570000000786 毫秒\n"
     ]
    },
    {
     "name": "stderr",
     "output_type": "stream",
     "text": [
      "       1/50      6.16G      4.894      4.415      4.129         34        640:   8%|▊         | 123/1504 [00:57<11:14, "
     ]
    },
    {
     "name": "stdout",
     "output_type": "stream",
     "text": [
      "Backward运行时间： 142.88960000001794 毫秒\n"
     ]
    },
    {
     "name": "stderr",
     "output_type": "stream",
     "text": [
      "       1/50      6.16G      4.891      4.411      4.128         39        640:   8%|▊         | 124/1504 [00:58<11:05, "
     ]
    },
    {
     "name": "stdout",
     "output_type": "stream",
     "text": [
      "Backward运行时间： 129.31199999999876 毫秒\n"
     ]
    },
    {
     "name": "stderr",
     "output_type": "stream",
     "text": [
      "       1/50      6.16G      4.888      4.406      4.125         37        640:   8%|▊         | 125/1504 [00:59<10:52, "
     ]
    },
    {
     "name": "stdout",
     "output_type": "stream",
     "text": [
      "Backward运行时间： 127.42689999998902 毫秒\n"
     ]
    },
    {
     "name": "stderr",
     "output_type": "stream",
     "text": [
      "\r",
      "       1/50      6.16G      4.888      4.406      4.125         37        640:   8%|▊         | 126/1504 [00:59<10:39, "
     ]
    },
    {
     "name": "stdout",
     "output_type": "stream",
     "text": [
      "Backward运行时间： 137.8781000000231 毫秒\n"
     ]
    },
    {
     "name": "stderr",
     "output_type": "stream",
     "text": [
      "       1/50      6.16G       4.88      4.399      4.124         42        640:   8%|▊         | 127/1504 [00:59<10:37, "
     ]
    },
    {
     "name": "stdout",
     "output_type": "stream",
     "text": [
      "Backward运行时间： 131.3130000000058 毫秒\n"
     ]
    },
    {
     "name": "stderr",
     "output_type": "stream",
     "text": [
      "       1/50      6.16G      4.875      4.395      4.122         33        640:   9%|▊         | 128/1504 [01:00<10:39, "
     ]
    },
    {
     "name": "stdout",
     "output_type": "stream",
     "text": [
      "Backward运行时间： 138.75640000000544 毫秒\n"
     ]
    },
    {
     "name": "stderr",
     "output_type": "stream",
     "text": [
      "       1/50      6.16G      4.872       4.39      4.121         46        640:   9%|▊         | 129/1504 [01:00<10:35, "
     ]
    },
    {
     "name": "stdout",
     "output_type": "stream",
     "text": [
      "Backward运行时间： 154.14809999998624 毫秒\n"
     ]
    },
    {
     "name": "stderr",
     "output_type": "stream",
     "text": [
      "       1/50      6.16G      4.869      4.387      4.119         29        640:   9%|▊         | 130/1504 [01:01<10:53, "
     ]
    },
    {
     "name": "stdout",
     "output_type": "stream",
     "text": [
      "Backward运行时间： 143.81539999999404 毫秒\n"
     ]
    },
    {
     "name": "stderr",
     "output_type": "stream",
     "text": [
      "       1/50      6.16G      4.869      4.382      4.118         48        640:   9%|▊         | 131/1504 [01:01<10:43, "
     ]
    },
    {
     "name": "stdout",
     "output_type": "stream",
     "text": [
      "Backward运行时间： 142.30949999998188 毫秒\n"
     ]
    },
    {
     "name": "stderr",
     "output_type": "stream",
     "text": [
      "       1/50      6.16G      4.868      4.377      4.116         45        640:   9%|▉         | 132/1504 [01:02<10:38, "
     ]
    },
    {
     "name": "stdout",
     "output_type": "stream",
     "text": [
      "Backward运行时间： 132.89109999999482 毫秒\n"
     ]
    },
    {
     "name": "stderr",
     "output_type": "stream",
     "text": [
      "       1/50      6.16G      4.865      4.374      4.116         36        640:   9%|▉         | 133/1504 [01:02<10:36, "
     ]
    },
    {
     "name": "stdout",
     "output_type": "stream",
     "text": [
      "Backward运行时间： 132.8670000000045 毫秒\n"
     ]
    },
    {
     "name": "stderr",
     "output_type": "stream",
     "text": [
      "       1/50      6.16G      4.865      4.373      4.113         34        640:   9%|▉         | 134/1504 [01:03<10:25, "
     ]
    },
    {
     "name": "stdout",
     "output_type": "stream",
     "text": [
      "Backward运行时间： 138.555800000006 毫秒\n"
     ]
    },
    {
     "name": "stderr",
     "output_type": "stream",
     "text": [
      "       1/50      6.16G      4.859      4.369      4.111         30        640:   9%|▉         | 135/1504 [01:03<10:28, "
     ]
    },
    {
     "name": "stdout",
     "output_type": "stream",
     "text": [
      "Backward运行时间： 137.13260000000105 毫秒\n"
     ]
    },
    {
     "name": "stderr",
     "output_type": "stream",
     "text": [
      "       1/50      6.16G      4.858      4.365      4.109         34        640:   9%|▉         | 136/1504 [01:03<10:28, "
     ]
    },
    {
     "name": "stdout",
     "output_type": "stream",
     "text": [
      "Backward运行时间： 133.01040000001763 毫秒\n"
     ]
    },
    {
     "name": "stderr",
     "output_type": "stream",
     "text": [
      "       1/50      6.16G      4.855       4.36      4.107         46        640:   9%|▉         | 137/1504 [01:04<10:28, "
     ]
    },
    {
     "name": "stdout",
     "output_type": "stream",
     "text": [
      "Backward运行时间： 133.96529999999984 毫秒\n"
     ]
    },
    {
     "name": "stderr",
     "output_type": "stream",
     "text": [
      "       1/50      6.16G       4.85      4.353      4.105         39        640:   9%|▉         | 138/1504 [01:04<10:24, "
     ]
    },
    {
     "name": "stdout",
     "output_type": "stream",
     "text": [
      "Backward运行时间： 137.17289999999593 毫秒\n"
     ]
    },
    {
     "name": "stderr",
     "output_type": "stream",
     "text": [
      "       1/50      6.16G      4.842      4.348      4.103         42        640:   9%|▉         | 139/1504 [01:05<10:19, "
     ]
    },
    {
     "name": "stdout",
     "output_type": "stream",
     "text": [
      "Backward运行时间： 126.58279999999422 毫秒\n"
     ]
    },
    {
     "name": "stderr",
     "output_type": "stream",
     "text": [
      "       1/50      6.16G      4.837      4.342      4.101         48        640:   9%|▉         | 140/1504 [01:05<10:16, "
     ]
    },
    {
     "name": "stdout",
     "output_type": "stream",
     "text": [
      "Backward运行时间： 139.0017999999884 毫秒\n"
     ]
    },
    {
     "name": "stderr",
     "output_type": "stream",
     "text": [
      "       1/50      6.16G      4.837      4.338      4.099         59        640:   9%|▉         | 141/1504 [01:06<10:24, "
     ]
    },
    {
     "name": "stdout",
     "output_type": "stream",
     "text": [
      "Backward运行时间： 137.1377000000109 毫秒\n"
     ]
    },
    {
     "name": "stderr",
     "output_type": "stream",
     "text": [
      "       1/50      6.16G      4.836      4.336      4.098         34        640:   9%|▉         | 142/1504 [01:06<10:28, "
     ]
    },
    {
     "name": "stdout",
     "output_type": "stream",
     "text": [
      "Backward运行时间： 134.78990000001545 毫秒\n"
     ]
    },
    {
     "name": "stderr",
     "output_type": "stream",
     "text": [
      "       1/50      6.16G      4.831      4.331      4.096         44        640:  10%|▉         | 143/1504 [01:07<10:28, "
     ]
    },
    {
     "name": "stdout",
     "output_type": "stream",
     "text": [
      "Backward运行时间： 133.54150000000686 毫秒\n"
     ]
    },
    {
     "name": "stderr",
     "output_type": "stream",
     "text": [
      "       1/50      6.16G      4.833      4.328      4.095         45        640:  10%|▉         | 144/1504 [01:07<10:26, "
     ]
    },
    {
     "name": "stdout",
     "output_type": "stream",
     "text": [
      "Backward运行时间： 152.32019999999125 毫秒\n"
     ]
    },
    {
     "name": "stderr",
     "output_type": "stream",
     "text": [
      "       1/50      6.16G      4.832      4.323      4.094         40        640:  10%|▉         | 145/1504 [01:08<10:43, "
     ]
    },
    {
     "name": "stdout",
     "output_type": "stream",
     "text": [
      "Backward运行时间： 141.54400000001033 毫秒\n"
     ]
    },
    {
     "name": "stderr",
     "output_type": "stream",
     "text": [
      "       1/50      6.16G      4.822      4.319      4.091         33        640:  10%|▉         | 146/1504 [01:08<11:18, "
     ]
    },
    {
     "name": "stdout",
     "output_type": "stream",
     "text": [
      "Backward运行时间： 152.44630000000825 毫秒\n"
     ]
    },
    {
     "name": "stderr",
     "output_type": "stream",
     "text": [
      "       1/50      6.16G      4.821      4.316      4.091         46        640:  10%|▉         | 147/1504 [01:09<11:20, "
     ]
    },
    {
     "name": "stdout",
     "output_type": "stream",
     "text": [
      "Backward运行时间： 138.12520000001882 毫秒\n"
     ]
    },
    {
     "name": "stderr",
     "output_type": "stream",
     "text": [
      "       1/50      6.16G       4.82      4.309      4.089         63        640:  10%|▉         | 148/1504 [01:09<11:03, "
     ]
    },
    {
     "name": "stdout",
     "output_type": "stream",
     "text": [
      "Backward运行时间： 138.13780000000975 毫秒\n"
     ]
    },
    {
     "name": "stderr",
     "output_type": "stream",
     "text": [
      "       1/50      6.16G      4.817      4.307      4.087         33        640:  10%|▉         | 149/1504 [01:10<10:46, "
     ]
    },
    {
     "name": "stdout",
     "output_type": "stream",
     "text": [
      "Backward运行时间： 145.21849999999858 毫秒\n"
     ]
    },
    {
     "name": "stderr",
     "output_type": "stream",
     "text": [
      "       1/50      6.16G      4.809      4.301      4.085         30        640:  10%|▉         | 150/1504 [01:10<10:49, "
     ]
    },
    {
     "name": "stdout",
     "output_type": "stream",
     "text": [
      "Backward运行时间： 147.66839999998638 毫秒\n"
     ]
    },
    {
     "name": "stderr",
     "output_type": "stream",
     "text": [
      "       1/50      6.16G      4.803      4.298      4.084         29        640:  10%|█         | 151/1504 [01:11<10:50, "
     ]
    },
    {
     "name": "stdout",
     "output_type": "stream",
     "text": [
      "Backward运行时间： 147.13629999999966 毫秒\n"
     ]
    },
    {
     "name": "stderr",
     "output_type": "stream",
     "text": [
      "       1/50      6.16G      4.797      4.293      4.081         34        640:  10%|█         | 152/1504 [01:11<10:54, "
     ]
    },
    {
     "name": "stdout",
     "output_type": "stream",
     "text": [
      "Backward运行时间： 139.4290000000069 毫秒\n"
     ]
    },
    {
     "name": "stderr",
     "output_type": "stream",
     "text": [
      "       1/50      6.16G      4.792      4.291       4.08         38        640:  10%|█         | 153/1504 [01:12<10:58, "
     ]
    },
    {
     "name": "stdout",
     "output_type": "stream",
     "text": [
      "Backward运行时间： 146.59609999998224 毫秒\n"
     ]
    },
    {
     "name": "stderr",
     "output_type": "stream",
     "text": [
      "       1/50      6.16G      4.788      4.286      4.078         42        640:  10%|█         | 154/1504 [01:12<10:53, "
     ]
    },
    {
     "name": "stdout",
     "output_type": "stream",
     "text": [
      "Backward运行时间： 149.97510000000602 毫秒\n"
     ]
    },
    {
     "name": "stderr",
     "output_type": "stream",
     "text": [
      "       1/50      6.16G      4.779      4.279      4.075         44        640:  10%|█         | 155/1504 [01:13<10:57, "
     ]
    },
    {
     "name": "stdout",
     "output_type": "stream",
     "text": [
      "Backward运行时间： 127.86930000001462 毫秒\n"
     ]
    },
    {
     "name": "stderr",
     "output_type": "stream",
     "text": [
      "\r",
      "       1/50      6.16G      4.779      4.279      4.075         44        640:  10%|█         | 156/1504 [01:13<10:43, "
     ]
    },
    {
     "name": "stdout",
     "output_type": "stream",
     "text": [
      "Backward运行时间： 141.67459999998755 毫秒\n"
     ]
    },
    {
     "name": "stderr",
     "output_type": "stream",
     "text": [
      "       1/50      6.16G      4.777      4.275      4.074         41        640:  10%|█         | 157/1504 [01:13<10:48, "
     ]
    },
    {
     "name": "stdout",
     "output_type": "stream",
     "text": [
      "Backward运行时间： 147.60129999999094 毫秒\n"
     ]
    },
    {
     "name": "stderr",
     "output_type": "stream",
     "text": [
      "       1/50      6.16G      4.766      4.268      4.068         31        640:  11%|█         | 158/1504 [01:14<10:47, "
     ]
    },
    {
     "name": "stdout",
     "output_type": "stream",
     "text": [
      "Backward运行时间： 136.12930000002166 毫秒\n"
     ]
    },
    {
     "name": "stderr",
     "output_type": "stream",
     "text": [
      "\r",
      "       1/50      6.16G      4.766      4.268      4.068         31        640:  11%|█         | 159/1504 [01:14<10:37, "
     ]
    },
    {
     "name": "stdout",
     "output_type": "stream",
     "text": [
      "Backward运行时间： 128.42480000000478 毫秒\n"
     ]
    },
    {
     "name": "stderr",
     "output_type": "stream",
     "text": [
      "       1/50      6.16G      4.762      4.264      4.066         32        640:  11%|█         | 160/1504 [01:15<10:28, "
     ]
    },
    {
     "name": "stdout",
     "output_type": "stream",
     "text": [
      "Backward运行时间： 127.48030000000199 毫秒\n"
     ]
    },
    {
     "name": "stderr",
     "output_type": "stream",
     "text": [
      "       1/50      6.16G      4.759       4.26      4.063         47        640:  11%|█         | 161/1504 [01:15<10:19, "
     ]
    },
    {
     "name": "stdout",
     "output_type": "stream",
     "text": [
      "Backward运行时间： 147.04369999998335 毫秒\n"
     ]
    },
    {
     "name": "stderr",
     "output_type": "stream",
     "text": [
      "       1/50      6.16G      4.758      4.256      4.062         53        640:  11%|█         | 162/1504 [01:16<10:29, "
     ]
    },
    {
     "name": "stdout",
     "output_type": "stream",
     "text": [
      "Backward运行时间： 146.1631999999895 毫秒\n"
     ]
    },
    {
     "name": "stderr",
     "output_type": "stream",
     "text": [
      "       1/50      6.16G      4.759      4.252       4.06         65        640:  11%|█         | 163/1504 [01:16<10:26, "
     ]
    },
    {
     "name": "stdout",
     "output_type": "stream",
     "text": [
      "Backward运行时间： 140.08180000001857 毫秒\n"
     ]
    },
    {
     "name": "stderr",
     "output_type": "stream",
     "text": [
      "       1/50      6.16G      4.752      4.245      4.058         52        640:  11%|█         | 164/1504 [01:17<10:28, "
     ]
    },
    {
     "name": "stdout",
     "output_type": "stream",
     "text": [
      "Backward运行时间： 139.64910000001396 毫秒\n"
     ]
    },
    {
     "name": "stderr",
     "output_type": "stream",
     "text": [
      "       1/50      6.16G      4.746      4.241      4.056         29        640:  11%|█         | 165/1504 [01:17<10:27, "
     ]
    },
    {
     "name": "stdout",
     "output_type": "stream",
     "text": [
      "Backward运行时间： 130.9710000000166 毫秒\n"
     ]
    },
    {
     "name": "stderr",
     "output_type": "stream",
     "text": [
      "       1/50      6.16G      4.741      4.238      4.054         34        640:  11%|█         | 166/1504 [01:18<10:23, "
     ]
    },
    {
     "name": "stdout",
     "output_type": "stream",
     "text": [
      "Backward运行时间： 133.35170000001995 毫秒\n"
     ]
    },
    {
     "name": "stderr",
     "output_type": "stream",
     "text": [
      "       1/50      6.16G      4.737      4.238      4.052         24        640:  11%|█         | 167/1504 [01:18<10:19, "
     ]
    },
    {
     "name": "stdout",
     "output_type": "stream",
     "text": [
      "Backward运行时间： 129.09830000000966 毫秒\n"
     ]
    },
    {
     "name": "stderr",
     "output_type": "stream",
     "text": [
      "       1/50      6.16G       4.73      4.236       4.05         27        640:  11%|█         | 168/1504 [01:19<10:10, "
     ]
    },
    {
     "name": "stdout",
     "output_type": "stream",
     "text": [
      "Backward运行时间： 137.75730000000408 毫秒\n"
     ]
    },
    {
     "name": "stderr",
     "output_type": "stream",
     "text": [
      "       1/50      6.16G      4.725      4.231      4.048         34        640:  11%|█         | 169/1504 [01:19<10:10, "
     ]
    },
    {
     "name": "stdout",
     "output_type": "stream",
     "text": [
      "Backward运行时间： 129.09510000000068 毫秒\n"
     ]
    },
    {
     "name": "stderr",
     "output_type": "stream",
     "text": [
      "       1/50      6.16G       4.72      4.228      4.045         37        640:  11%|█▏        | 170/1504 [01:19<10:14, "
     ]
    },
    {
     "name": "stdout",
     "output_type": "stream",
     "text": [
      "Backward运行时间： 136.53999999999655 毫秒\n"
     ]
    },
    {
     "name": "stderr",
     "output_type": "stream",
     "text": [
      "       1/50      6.16G      4.718      4.224      4.043         43        640:  11%|█▏        | 171/1504 [01:20<10:23, "
     ]
    },
    {
     "name": "stdout",
     "output_type": "stream",
     "text": [
      "Backward运行时间： 126.46620000001008 毫秒\n"
     ]
    },
    {
     "name": "stderr",
     "output_type": "stream",
     "text": [
      "       1/50      6.16G      4.713      4.221      4.041         41        640:  11%|█▏        | 172/1504 [01:21<10:27, \n"
     ]
    },
    {
     "ename": "KeyboardInterrupt",
     "evalue": "",
     "output_type": "error",
     "traceback": [
      "\u001b[1;31m---------------------------------------------------------------------------\u001b[0m",
      "\u001b[1;31mKeyboardInterrupt\u001b[0m                         Traceback (most recent call last)",
      "Cell \u001b[1;32mIn [1], line 7\u001b[0m\n\u001b[0;32m      4\u001b[0m args \u001b[38;5;241m=\u001b[39m \u001b[38;5;28mdict\u001b[39m(task\u001b[38;5;241m=\u001b[39m\u001b[38;5;124m'\u001b[39m\u001b[38;5;124mdetect\u001b[39m\u001b[38;5;124m'\u001b[39m,mode\u001b[38;5;241m=\u001b[39m\u001b[38;5;124m'\u001b[39m\u001b[38;5;124mtrain\u001b[39m\u001b[38;5;124m'\u001b[39m,model\u001b[38;5;241m=\u001b[39m\u001b[38;5;124m'\u001b[39m\u001b[38;5;124m../../../cfg/models/v8/yolov8-C2f_GhostNetV2.yaml\u001b[39m\u001b[38;5;124m'\u001b[39m,data\u001b[38;5;241m=\u001b[39m\u001b[38;5;124m'\u001b[39m\u001b[38;5;124m../../../cfg/datasets/LLVIP-vis.yaml\u001b[39m\u001b[38;5;124m'\u001b[39m,\n\u001b[0;32m      5\u001b[0m             epochs\u001b[38;5;241m=\u001b[39m\u001b[38;5;241m50\u001b[39m,batch\u001b[38;5;241m=\u001b[39m\u001b[38;5;241m8\u001b[39m,project\u001b[38;5;241m=\u001b[39m\u001b[38;5;124m'\u001b[39m\u001b[38;5;124mv8_detect\u001b[39m\u001b[38;5;124m'\u001b[39m,name\u001b[38;5;241m=\u001b[39m\u001b[38;5;124m'\u001b[39m\u001b[38;5;124mtrain_C2f_GhostNetV2-LLVIP-vis\u001b[39m\u001b[38;5;124m'\u001b[39m)\n\u001b[0;32m      6\u001b[0m trainer \u001b[38;5;241m=\u001b[39m DetectionTrainer(overrides\u001b[38;5;241m=\u001b[39margs)\n\u001b[1;32m----> 7\u001b[0m trainer\u001b[38;5;241m.\u001b[39mtrain()\n",
      "File \u001b[1;32md:\\pycharmproject\\ultralytics\\ultralytics\\engine\\trainer.py:192\u001b[0m, in \u001b[0;36mBaseTrainer.train\u001b[1;34m(self)\u001b[0m\n\u001b[0;32m    189\u001b[0m         ddp_cleanup(\u001b[38;5;28mself\u001b[39m, \u001b[38;5;28mstr\u001b[39m(file))\n\u001b[0;32m    191\u001b[0m \u001b[38;5;28;01melse\u001b[39;00m:\n\u001b[1;32m--> 192\u001b[0m     \u001b[38;5;28;43mself\u001b[39;49m\u001b[38;5;241;43m.\u001b[39;49m\u001b[43m_do_train\u001b[49m\u001b[43m(\u001b[49m\u001b[43mworld_size\u001b[49m\u001b[43m)\u001b[49m\n",
      "File \u001b[1;32md:\\pycharmproject\\ultralytics\\ultralytics\\engine\\trainer.py:343\u001b[0m, in \u001b[0;36mBaseTrainer._do_train\u001b[1;34m(self, world_size)\u001b[0m\n\u001b[0;32m    341\u001b[0m \u001b[38;5;28;01mwith\u001b[39;00m torch\u001b[38;5;241m.\u001b[39mcuda\u001b[38;5;241m.\u001b[39mamp\u001b[38;5;241m.\u001b[39mautocast(\u001b[38;5;28mself\u001b[39m\u001b[38;5;241m.\u001b[39mamp):\n\u001b[0;32m    342\u001b[0m     batch \u001b[38;5;241m=\u001b[39m \u001b[38;5;28mself\u001b[39m\u001b[38;5;241m.\u001b[39mpreprocess_batch(batch)\n\u001b[1;32m--> 343\u001b[0m     \u001b[38;5;28mself\u001b[39m\u001b[38;5;241m.\u001b[39mloss, \u001b[38;5;28mself\u001b[39m\u001b[38;5;241m.\u001b[39mloss_items \u001b[38;5;241m=\u001b[39m \u001b[38;5;28;43mself\u001b[39;49m\u001b[38;5;241;43m.\u001b[39;49m\u001b[43mmodel\u001b[49m\u001b[43m(\u001b[49m\u001b[43mbatch\u001b[49m\u001b[43m)\u001b[49m\n\u001b[0;32m    344\u001b[0m     \u001b[38;5;28;01mif\u001b[39;00m RANK \u001b[38;5;241m!=\u001b[39m \u001b[38;5;241m-\u001b[39m\u001b[38;5;241m1\u001b[39m:\n\u001b[0;32m    345\u001b[0m         \u001b[38;5;28mself\u001b[39m\u001b[38;5;241m.\u001b[39mloss \u001b[38;5;241m*\u001b[39m\u001b[38;5;241m=\u001b[39m world_size\n",
      "File \u001b[1;32mD:\\ProgramData\\Miniconda3\\envs\\TransTrack\\lib\\site-packages\\torch\\nn\\modules\\module.py:1110\u001b[0m, in \u001b[0;36mModule._call_impl\u001b[1;34m(self, *input, **kwargs)\u001b[0m\n\u001b[0;32m   1106\u001b[0m \u001b[38;5;66;03m# If we don't have any hooks, we want to skip the rest of the logic in\u001b[39;00m\n\u001b[0;32m   1107\u001b[0m \u001b[38;5;66;03m# this function, and just call forward.\u001b[39;00m\n\u001b[0;32m   1108\u001b[0m \u001b[38;5;28;01mif\u001b[39;00m \u001b[38;5;129;01mnot\u001b[39;00m (\u001b[38;5;28mself\u001b[39m\u001b[38;5;241m.\u001b[39m_backward_hooks \u001b[38;5;129;01mor\u001b[39;00m \u001b[38;5;28mself\u001b[39m\u001b[38;5;241m.\u001b[39m_forward_hooks \u001b[38;5;129;01mor\u001b[39;00m \u001b[38;5;28mself\u001b[39m\u001b[38;5;241m.\u001b[39m_forward_pre_hooks \u001b[38;5;129;01mor\u001b[39;00m _global_backward_hooks\n\u001b[0;32m   1109\u001b[0m         \u001b[38;5;129;01mor\u001b[39;00m _global_forward_hooks \u001b[38;5;129;01mor\u001b[39;00m _global_forward_pre_hooks):\n\u001b[1;32m-> 1110\u001b[0m     \u001b[38;5;28;01mreturn\u001b[39;00m \u001b[43mforward_call\u001b[49m\u001b[43m(\u001b[49m\u001b[38;5;241;43m*\u001b[39;49m\u001b[38;5;28;43minput\u001b[39;49m\u001b[43m,\u001b[49m\u001b[43m \u001b[49m\u001b[38;5;241;43m*\u001b[39;49m\u001b[38;5;241;43m*\u001b[39;49m\u001b[43mkwargs\u001b[49m\u001b[43m)\u001b[49m\n\u001b[0;32m   1111\u001b[0m \u001b[38;5;66;03m# Do not call functions when jit is used\u001b[39;00m\n\u001b[0;32m   1112\u001b[0m full_backward_hooks, non_full_backward_hooks \u001b[38;5;241m=\u001b[39m [], []\n",
      "File \u001b[1;32md:\\pycharmproject\\ultralytics\\ultralytics\\nn\\tasks.py:41\u001b[0m, in \u001b[0;36mBaseModel.forward\u001b[1;34m(self, x, *args, **kwargs)\u001b[0m\n\u001b[0;32m     31\u001b[0m \u001b[38;5;124;03m\"\"\"\u001b[39;00m\n\u001b[0;32m     32\u001b[0m \u001b[38;5;124;03mForward pass of the model on a single scale. Wrapper for `_forward_once` method.\u001b[39;00m\n\u001b[0;32m     33\u001b[0m \n\u001b[1;32m   (...)\u001b[0m\n\u001b[0;32m     38\u001b[0m \u001b[38;5;124;03m    (torch.Tensor): The output of the network.\u001b[39;00m\n\u001b[0;32m     39\u001b[0m \u001b[38;5;124;03m\"\"\"\u001b[39;00m\n\u001b[0;32m     40\u001b[0m \u001b[38;5;28;01mif\u001b[39;00m \u001b[38;5;28misinstance\u001b[39m(x, \u001b[38;5;28mdict\u001b[39m):  \u001b[38;5;66;03m# for cases of training and validating while training.\u001b[39;00m\n\u001b[1;32m---> 41\u001b[0m     \u001b[38;5;28;01mreturn\u001b[39;00m \u001b[38;5;28;43mself\u001b[39;49m\u001b[38;5;241;43m.\u001b[39;49m\u001b[43mloss\u001b[49m\u001b[43m(\u001b[49m\u001b[43mx\u001b[49m\u001b[43m,\u001b[49m\u001b[43m \u001b[49m\u001b[38;5;241;43m*\u001b[39;49m\u001b[43margs\u001b[49m\u001b[43m,\u001b[49m\u001b[43m \u001b[49m\u001b[38;5;241;43m*\u001b[39;49m\u001b[38;5;241;43m*\u001b[39;49m\u001b[43mkwargs\u001b[49m\u001b[43m)\u001b[49m\n\u001b[0;32m     42\u001b[0m \u001b[38;5;28;01mreturn\u001b[39;00m \u001b[38;5;28mself\u001b[39m\u001b[38;5;241m.\u001b[39mpredict(x, \u001b[38;5;241m*\u001b[39margs, \u001b[38;5;241m*\u001b[39m\u001b[38;5;241m*\u001b[39mkwargs)\n",
      "File \u001b[1;32md:\\pycharmproject\\ultralytics\\ultralytics\\nn\\tasks.py:212\u001b[0m, in \u001b[0;36mBaseModel.loss\u001b[1;34m(self, batch, preds)\u001b[0m\n\u001b[0;32m    209\u001b[0m     \u001b[38;5;28mself\u001b[39m\u001b[38;5;241m.\u001b[39mcriterion \u001b[38;5;241m=\u001b[39m \u001b[38;5;28mself\u001b[39m\u001b[38;5;241m.\u001b[39minit_criterion()\n\u001b[0;32m    211\u001b[0m preds \u001b[38;5;241m=\u001b[39m \u001b[38;5;28mself\u001b[39m\u001b[38;5;241m.\u001b[39mforward(batch[\u001b[38;5;124m'\u001b[39m\u001b[38;5;124mimg\u001b[39m\u001b[38;5;124m'\u001b[39m]) \u001b[38;5;28;01mif\u001b[39;00m preds \u001b[38;5;129;01mis\u001b[39;00m \u001b[38;5;28;01mNone\u001b[39;00m \u001b[38;5;28;01melse\u001b[39;00m preds\n\u001b[1;32m--> 212\u001b[0m \u001b[38;5;28;01mreturn\u001b[39;00m \u001b[38;5;28;43mself\u001b[39;49m\u001b[38;5;241;43m.\u001b[39;49m\u001b[43mcriterion\u001b[49m\u001b[43m(\u001b[49m\u001b[43mpreds\u001b[49m\u001b[43m,\u001b[49m\u001b[43m \u001b[49m\u001b[43mbatch\u001b[49m\u001b[43m)\u001b[49m\n",
      "File \u001b[1;32md:\\pycharmproject\\ultralytics\\ultralytics\\utils\\loss.py:176\u001b[0m, in \u001b[0;36mv8DetectionLoss.__call__\u001b[1;34m(self, preds, batch)\u001b[0m\n\u001b[0;32m    174\u001b[0m dtype \u001b[38;5;241m=\u001b[39m pred_scores\u001b[38;5;241m.\u001b[39mdtype\n\u001b[0;32m    175\u001b[0m batch_size \u001b[38;5;241m=\u001b[39m pred_scores\u001b[38;5;241m.\u001b[39mshape[\u001b[38;5;241m0\u001b[39m]\n\u001b[1;32m--> 176\u001b[0m imgsz \u001b[38;5;241m=\u001b[39m \u001b[43mtorch\u001b[49m\u001b[38;5;241;43m.\u001b[39;49m\u001b[43mtensor\u001b[49m\u001b[43m(\u001b[49m\u001b[43mfeats\u001b[49m\u001b[43m[\u001b[49m\u001b[38;5;241;43m0\u001b[39;49m\u001b[43m]\u001b[49m\u001b[38;5;241;43m.\u001b[39;49m\u001b[43mshape\u001b[49m\u001b[43m[\u001b[49m\u001b[38;5;241;43m2\u001b[39;49m\u001b[43m:\u001b[49m\u001b[43m]\u001b[49m\u001b[43m,\u001b[49m\u001b[43m \u001b[49m\u001b[43mdevice\u001b[49m\u001b[38;5;241;43m=\u001b[39;49m\u001b[38;5;28;43mself\u001b[39;49m\u001b[38;5;241;43m.\u001b[39;49m\u001b[43mdevice\u001b[49m\u001b[43m,\u001b[49m\u001b[43m \u001b[49m\u001b[43mdtype\u001b[49m\u001b[38;5;241;43m=\u001b[39;49m\u001b[43mdtype\u001b[49m\u001b[43m)\u001b[49m \u001b[38;5;241m*\u001b[39m \u001b[38;5;28mself\u001b[39m\u001b[38;5;241m.\u001b[39mstride[\u001b[38;5;241m0\u001b[39m]  \u001b[38;5;66;03m# image size (h,w)\u001b[39;00m\n\u001b[0;32m    177\u001b[0m anchor_points, stride_tensor \u001b[38;5;241m=\u001b[39m make_anchors(feats, \u001b[38;5;28mself\u001b[39m\u001b[38;5;241m.\u001b[39mstride, \u001b[38;5;241m0.5\u001b[39m)\n\u001b[0;32m    179\u001b[0m \u001b[38;5;66;03m# Targets\u001b[39;00m\n",
      "\u001b[1;31mKeyboardInterrupt\u001b[0m: "
     ]
    }
   ],
   "source": [
    "from ultralytics.models.yolo.detect import DetectionTrainer\n",
    "import os\n",
    "\n",
    "args = dict(task='detect',mode='train',model='../../../cfg/models/v8/yolov8-C2f_GhostNetV2.yaml',data='../../../cfg/datasets/LLVIP-vis.yaml',\n",
    "            epochs=50,batch=8,project='v8_detect',name='train_C2f_GhostNetV2-LLVIP-vis')\n",
    "trainer = DetectionTrainer(overrides=args)\n",
    "trainer.train()"
   ]
  },
  {
   "cell_type": "code",
   "execution_count": 3,
   "id": "33be96f1",
   "metadata": {
    "scrolled": false
   },
   "outputs": [
    {
     "name": "stderr",
     "output_type": "stream",
     "text": [
      "Ultralytics YOLOv8.0.198  Python-3.8.13 torch-1.11.0 CUDA:0 (NVIDIA GeForce RTX 3060, 12288MiB)\n",
      "YOLOv8l summary (fused): 268 layers, 43607379 parameters, 0 gradients\n",
      "\u001b[34m\u001b[1mval: \u001b[0mScanning D:\\LLVIP\\labels\\visible\\test.cache... 3463 images, 0 backgrounds, 0 corrupt: 100%|██████████| 3463/3463 [\u001b[0m\n",
      "                 Class     Images  Instances      Box(P          R      mAP50  mAP50-95): 100%|██████████| 433/433 [01:\n",
      "                   all       3463       7931      0.899      0.829      0.891      0.506\n",
      "Speed: 0.2ms preprocess, 23.6ms inference, 0.0ms loss, 0.8ms postprocess per image\n",
      "Results saved to \u001b[1mruns\\detect3\u001b[0m\n"
     ]
    },
    {
     "data": {
      "text/plain": [
       "{'metrics/precision(B)': 0.8987728549934452,\n",
       " 'metrics/recall(B)': 0.8285209935695372,\n",
       " 'metrics/mAP50(B)': 0.8912126353973228,\n",
       " 'metrics/mAP50-95(B)': 0.5063414400735325,\n",
       " 'fitness': 0.5448285596059116}"
      ]
     },
     "execution_count": 3,
     "metadata": {},
     "output_type": "execute_result"
    }
   ],
   "source": [
    "from ultralytics.models.yolo.detect import DetectionValidator\n",
    "\n",
    "args = dict(model='runs/detect2/weights/best.pt')\n",
    "validator = DetectionValidator(args=args)\n",
    "validator()"
   ]
  },
  {
   "cell_type": "code",
   "execution_count": 2,
   "id": "285b2592",
   "metadata": {
    "scrolled": true
   },
   "outputs": [
    {
     "name": "stderr",
     "output_type": "stream",
     "text": [
      "Ultralytics YOLOv8.0.201  Python-3.8.13 torch-1.11.0 CUDA:0 (NVIDIA GeForce RTX 3060, 12288MiB)\n"
     ]
    },
    {
     "ename": "KeyboardInterrupt",
     "evalue": "",
     "output_type": "error",
     "traceback": [
      "\u001b[1;31m---------------------------------------------------------------------------\u001b[0m",
      "\u001b[1;31mKeyboardInterrupt\u001b[0m                         Traceback (most recent call last)",
      "Cell \u001b[1;32mIn [2], line 5\u001b[0m\n\u001b[0;32m      3\u001b[0m args \u001b[38;5;241m=\u001b[39m \u001b[38;5;28mdict\u001b[39m(task \u001b[38;5;241m=\u001b[39m \u001b[38;5;124m'\u001b[39m\u001b[38;5;124mdetect\u001b[39m\u001b[38;5;124m'\u001b[39m, mode \u001b[38;5;241m=\u001b[39m \u001b[38;5;124m'\u001b[39m\u001b[38;5;124mval\u001b[39m\u001b[38;5;124m'\u001b[39m, model\u001b[38;5;241m=\u001b[39m\u001b[38;5;124m'\u001b[39m\u001b[38;5;124m./weights/yolov8l.pt\u001b[39m\u001b[38;5;124m'\u001b[39m,data\u001b[38;5;241m=\u001b[39m\u001b[38;5;124m'\u001b[39m\u001b[38;5;124m../../../cfg/datasets/LLVIP-infrared.yaml\u001b[39m\u001b[38;5;124m'\u001b[39m)\n\u001b[0;32m      4\u001b[0m validator \u001b[38;5;241m=\u001b[39m DetectionValidator(args\u001b[38;5;241m=\u001b[39margs)\n\u001b[1;32m----> 5\u001b[0m validator()\n",
      "File \u001b[1;32mD:\\ProgramData\\Miniconda3\\envs\\TransTrack\\lib\\site-packages\\torch\\autograd\\grad_mode.py:27\u001b[0m, in \u001b[0;36m_DecoratorContextManager.__call__.<locals>.decorate_context\u001b[1;34m(*args, **kwargs)\u001b[0m\n\u001b[0;32m     24\u001b[0m \u001b[38;5;129m@functools\u001b[39m\u001b[38;5;241m.\u001b[39mwraps(func)\n\u001b[0;32m     25\u001b[0m \u001b[38;5;28;01mdef\u001b[39;00m \u001b[38;5;21mdecorate_context\u001b[39m(\u001b[38;5;241m*\u001b[39margs, \u001b[38;5;241m*\u001b[39m\u001b[38;5;241m*\u001b[39mkwargs):\n\u001b[0;32m     26\u001b[0m     \u001b[38;5;28;01mwith\u001b[39;00m \u001b[38;5;28mself\u001b[39m\u001b[38;5;241m.\u001b[39mclone():\n\u001b[1;32m---> 27\u001b[0m         \u001b[38;5;28;01mreturn\u001b[39;00m \u001b[43mfunc\u001b[49m\u001b[43m(\u001b[49m\u001b[38;5;241;43m*\u001b[39;49m\u001b[43margs\u001b[49m\u001b[43m,\u001b[49m\u001b[43m \u001b[49m\u001b[38;5;241;43m*\u001b[39;49m\u001b[38;5;241;43m*\u001b[39;49m\u001b[43mkwargs\u001b[49m\u001b[43m)\u001b[49m\n",
      "File \u001b[1;32md:\\pycharmproject\\ultralytics\\ultralytics\\engine\\validator.py:122\u001b[0m, in \u001b[0;36mBaseValidator.__call__\u001b[1;34m(self, trainer, model)\u001b[0m\n\u001b[0;32m    120\u001b[0m \u001b[38;5;28;01melse\u001b[39;00m:\n\u001b[0;32m    121\u001b[0m     callbacks\u001b[38;5;241m.\u001b[39madd_integration_callbacks(\u001b[38;5;28mself\u001b[39m)\n\u001b[1;32m--> 122\u001b[0m     model \u001b[38;5;241m=\u001b[39m \u001b[43mAutoBackend\u001b[49m\u001b[43m(\u001b[49m\u001b[43mmodel\u001b[49m\u001b[43m \u001b[49m\u001b[38;5;129;43;01mor\u001b[39;49;00m\u001b[43m \u001b[49m\u001b[38;5;28;43mself\u001b[39;49m\u001b[38;5;241;43m.\u001b[39;49m\u001b[43margs\u001b[49m\u001b[38;5;241;43m.\u001b[39;49m\u001b[43mmodel\u001b[49m\u001b[43m,\u001b[49m\n\u001b[0;32m    123\u001b[0m \u001b[43m                        \u001b[49m\u001b[43mdevice\u001b[49m\u001b[38;5;241;43m=\u001b[39;49m\u001b[43mselect_device\u001b[49m\u001b[43m(\u001b[49m\u001b[38;5;28;43mself\u001b[39;49m\u001b[38;5;241;43m.\u001b[39;49m\u001b[43margs\u001b[49m\u001b[38;5;241;43m.\u001b[39;49m\u001b[43mdevice\u001b[49m\u001b[43m,\u001b[49m\u001b[43m \u001b[49m\u001b[38;5;28;43mself\u001b[39;49m\u001b[38;5;241;43m.\u001b[39;49m\u001b[43margs\u001b[49m\u001b[38;5;241;43m.\u001b[39;49m\u001b[43mbatch\u001b[49m\u001b[43m)\u001b[49m\u001b[43m,\u001b[49m\n\u001b[0;32m    124\u001b[0m \u001b[43m                        \u001b[49m\u001b[43mdnn\u001b[49m\u001b[38;5;241;43m=\u001b[39;49m\u001b[38;5;28;43mself\u001b[39;49m\u001b[38;5;241;43m.\u001b[39;49m\u001b[43margs\u001b[49m\u001b[38;5;241;43m.\u001b[39;49m\u001b[43mdnn\u001b[49m\u001b[43m,\u001b[49m\n\u001b[0;32m    125\u001b[0m \u001b[43m                        \u001b[49m\u001b[43mdata\u001b[49m\u001b[38;5;241;43m=\u001b[39;49m\u001b[38;5;28;43mself\u001b[39;49m\u001b[38;5;241;43m.\u001b[39;49m\u001b[43margs\u001b[49m\u001b[38;5;241;43m.\u001b[39;49m\u001b[43mdata\u001b[49m\u001b[43m,\u001b[49m\n\u001b[0;32m    126\u001b[0m \u001b[43m                        \u001b[49m\u001b[43mfp16\u001b[49m\u001b[38;5;241;43m=\u001b[39;49m\u001b[38;5;28;43mself\u001b[39;49m\u001b[38;5;241;43m.\u001b[39;49m\u001b[43margs\u001b[49m\u001b[38;5;241;43m.\u001b[39;49m\u001b[43mhalf\u001b[49m\u001b[43m)\u001b[49m\n\u001b[0;32m    127\u001b[0m     \u001b[38;5;66;03m# self.model = model\u001b[39;00m\n\u001b[0;32m    128\u001b[0m     \u001b[38;5;28mself\u001b[39m\u001b[38;5;241m.\u001b[39mdevice \u001b[38;5;241m=\u001b[39m model\u001b[38;5;241m.\u001b[39mdevice  \u001b[38;5;66;03m# update device\u001b[39;00m\n",
      "File \u001b[1;32mD:\\ProgramData\\Miniconda3\\envs\\TransTrack\\lib\\site-packages\\torch\\autograd\\grad_mode.py:27\u001b[0m, in \u001b[0;36m_DecoratorContextManager.__call__.<locals>.decorate_context\u001b[1;34m(*args, **kwargs)\u001b[0m\n\u001b[0;32m     24\u001b[0m \u001b[38;5;129m@functools\u001b[39m\u001b[38;5;241m.\u001b[39mwraps(func)\n\u001b[0;32m     25\u001b[0m \u001b[38;5;28;01mdef\u001b[39;00m \u001b[38;5;21mdecorate_context\u001b[39m(\u001b[38;5;241m*\u001b[39margs, \u001b[38;5;241m*\u001b[39m\u001b[38;5;241m*\u001b[39mkwargs):\n\u001b[0;32m     26\u001b[0m     \u001b[38;5;28;01mwith\u001b[39;00m \u001b[38;5;28mself\u001b[39m\u001b[38;5;241m.\u001b[39mclone():\n\u001b[1;32m---> 27\u001b[0m         \u001b[38;5;28;01mreturn\u001b[39;00m \u001b[43mfunc\u001b[49m\u001b[43m(\u001b[49m\u001b[38;5;241;43m*\u001b[39;49m\u001b[43margs\u001b[49m\u001b[43m,\u001b[49m\u001b[43m \u001b[49m\u001b[38;5;241;43m*\u001b[39;49m\u001b[38;5;241;43m*\u001b[39;49m\u001b[43mkwargs\u001b[49m\u001b[43m)\u001b[49m\n",
      "File \u001b[1;32md:\\pycharmproject\\ultralytics\\ultralytics\\nn\\autobackend.py:125\u001b[0m, in \u001b[0;36mAutoBackend.__init__\u001b[1;34m(self, weights, device, dnn, data, fp16, fuse, verbose)\u001b[0m\n\u001b[0;32m    123\u001b[0m \u001b[38;5;28;01melif\u001b[39;00m pt:  \u001b[38;5;66;03m# PyTorch\u001b[39;00m\n\u001b[0;32m    124\u001b[0m     \u001b[38;5;28;01mfrom\u001b[39;00m \u001b[38;5;21;01multralytics\u001b[39;00m\u001b[38;5;21;01m.\u001b[39;00m\u001b[38;5;21;01mnn\u001b[39;00m\u001b[38;5;21;01m.\u001b[39;00m\u001b[38;5;21;01mtasks\u001b[39;00m \u001b[38;5;28;01mimport\u001b[39;00m attempt_load_weights\n\u001b[1;32m--> 125\u001b[0m     model \u001b[38;5;241m=\u001b[39m \u001b[43mattempt_load_weights\u001b[49m\u001b[43m(\u001b[49m\u001b[43mweights\u001b[49m\u001b[43m \u001b[49m\u001b[38;5;28;43;01mif\u001b[39;49;00m\u001b[43m \u001b[49m\u001b[38;5;28;43misinstance\u001b[39;49m\u001b[43m(\u001b[49m\u001b[43mweights\u001b[49m\u001b[43m,\u001b[49m\u001b[43m \u001b[49m\u001b[38;5;28;43mlist\u001b[39;49m\u001b[43m)\u001b[49m\u001b[43m \u001b[49m\u001b[38;5;28;43;01melse\u001b[39;49;00m\u001b[43m \u001b[49m\u001b[43mw\u001b[49m\u001b[43m,\u001b[49m\n\u001b[0;32m    126\u001b[0m \u001b[43m                                 \u001b[49m\u001b[43mdevice\u001b[49m\u001b[38;5;241;43m=\u001b[39;49m\u001b[43mdevice\u001b[49m\u001b[43m,\u001b[49m\n\u001b[0;32m    127\u001b[0m \u001b[43m                                 \u001b[49m\u001b[43minplace\u001b[49m\u001b[38;5;241;43m=\u001b[39;49m\u001b[38;5;28;43;01mTrue\u001b[39;49;00m\u001b[43m,\u001b[49m\n\u001b[0;32m    128\u001b[0m \u001b[43m                                 \u001b[49m\u001b[43mfuse\u001b[49m\u001b[38;5;241;43m=\u001b[39;49m\u001b[43mfuse\u001b[49m\u001b[43m)\u001b[49m\n\u001b[0;32m    129\u001b[0m     \u001b[38;5;28;01mif\u001b[39;00m \u001b[38;5;28mhasattr\u001b[39m(model, \u001b[38;5;124m'\u001b[39m\u001b[38;5;124mkpt_shape\u001b[39m\u001b[38;5;124m'\u001b[39m):\n\u001b[0;32m    130\u001b[0m         kpt_shape \u001b[38;5;241m=\u001b[39m model\u001b[38;5;241m.\u001b[39mkpt_shape  \u001b[38;5;66;03m# pose-only\u001b[39;00m\n",
      "File \u001b[1;32md:\\pycharmproject\\ultralytics\\ultralytics\\nn\\tasks.py:603\u001b[0m, in \u001b[0;36mattempt_load_weights\u001b[1;34m(weights, device, inplace, fuse)\u001b[0m\n\u001b[0;32m    600\u001b[0m         model\u001b[38;5;241m.\u001b[39mstride \u001b[38;5;241m=\u001b[39m torch\u001b[38;5;241m.\u001b[39mtensor([\u001b[38;5;241m32.\u001b[39m])\n\u001b[0;32m    602\u001b[0m     \u001b[38;5;66;03m# Append\u001b[39;00m\n\u001b[1;32m--> 603\u001b[0m     ensemble\u001b[38;5;241m.\u001b[39mappend(\u001b[43mmodel\u001b[49m\u001b[38;5;241;43m.\u001b[39;49m\u001b[43mfuse\u001b[49m\u001b[43m(\u001b[49m\u001b[43m)\u001b[49m\u001b[38;5;241m.\u001b[39meval() \u001b[38;5;28;01mif\u001b[39;00m fuse \u001b[38;5;129;01mand\u001b[39;00m \u001b[38;5;28mhasattr\u001b[39m(model, \u001b[38;5;124m'\u001b[39m\u001b[38;5;124mfuse\u001b[39m\u001b[38;5;124m'\u001b[39m) \u001b[38;5;28;01melse\u001b[39;00m model\u001b[38;5;241m.\u001b[39meval())  \u001b[38;5;66;03m# model in eval mode\u001b[39;00m\n\u001b[0;32m    605\u001b[0m \u001b[38;5;66;03m# Module updates\u001b[39;00m\n\u001b[0;32m    606\u001b[0m \u001b[38;5;28;01mfor\u001b[39;00m m \u001b[38;5;129;01min\u001b[39;00m ensemble\u001b[38;5;241m.\u001b[39mmodules():\n",
      "File \u001b[1;32md:\\pycharmproject\\ultralytics\\ultralytics\\nn\\tasks.py:139\u001b[0m, in \u001b[0;36mBaseModel.fuse\u001b[1;34m(self, verbose)\u001b[0m\n\u001b[0;32m    137\u001b[0m             m\u001b[38;5;241m.\u001b[39mfuse_convs()\n\u001b[0;32m    138\u001b[0m             m\u001b[38;5;241m.\u001b[39mforward \u001b[38;5;241m=\u001b[39m m\u001b[38;5;241m.\u001b[39mforward_fuse  \u001b[38;5;66;03m# update forward\u001b[39;00m\n\u001b[1;32m--> 139\u001b[0m     \u001b[38;5;28;43mself\u001b[39;49m\u001b[38;5;241;43m.\u001b[39;49m\u001b[43minfo\u001b[49m\u001b[43m(\u001b[49m\u001b[43mverbose\u001b[49m\u001b[38;5;241;43m=\u001b[39;49m\u001b[43mverbose\u001b[49m\u001b[43m)\u001b[49m\n\u001b[0;32m    141\u001b[0m \u001b[38;5;28;01mreturn\u001b[39;00m \u001b[38;5;28mself\u001b[39m\n",
      "File \u001b[1;32md:\\pycharmproject\\ultralytics\\ultralytics\\nn\\tasks.py:165\u001b[0m, in \u001b[0;36mBaseModel.info\u001b[1;34m(self, detailed, verbose, imgsz)\u001b[0m\n\u001b[0;32m    156\u001b[0m \u001b[38;5;28;01mdef\u001b[39;00m \u001b[38;5;21minfo\u001b[39m(\u001b[38;5;28mself\u001b[39m, detailed\u001b[38;5;241m=\u001b[39m\u001b[38;5;28;01mFalse\u001b[39;00m, verbose\u001b[38;5;241m=\u001b[39m\u001b[38;5;28;01mTrue\u001b[39;00m, imgsz\u001b[38;5;241m=\u001b[39m\u001b[38;5;241m640\u001b[39m):\n\u001b[0;32m    157\u001b[0m     \u001b[38;5;124;03m\"\"\"\u001b[39;00m\n\u001b[0;32m    158\u001b[0m \u001b[38;5;124;03m    Prints model information.\u001b[39;00m\n\u001b[0;32m    159\u001b[0m \n\u001b[1;32m   (...)\u001b[0m\n\u001b[0;32m    163\u001b[0m \u001b[38;5;124;03m        imgsz (int): the size of the image that the model will be trained on. Defaults to 640\u001b[39;00m\n\u001b[0;32m    164\u001b[0m \u001b[38;5;124;03m    \"\"\"\u001b[39;00m\n\u001b[1;32m--> 165\u001b[0m     \u001b[38;5;28;01mreturn\u001b[39;00m \u001b[43mmodel_info\u001b[49m\u001b[43m(\u001b[49m\u001b[38;5;28;43mself\u001b[39;49m\u001b[43m,\u001b[49m\u001b[43m \u001b[49m\u001b[43mdetailed\u001b[49m\u001b[38;5;241;43m=\u001b[39;49m\u001b[43mdetailed\u001b[49m\u001b[43m,\u001b[49m\u001b[43m \u001b[49m\u001b[43mverbose\u001b[49m\u001b[38;5;241;43m=\u001b[39;49m\u001b[43mverbose\u001b[49m\u001b[43m,\u001b[49m\u001b[43m \u001b[49m\u001b[43mimgsz\u001b[49m\u001b[38;5;241;43m=\u001b[39;49m\u001b[43mimgsz\u001b[49m\u001b[43m)\u001b[49m\n",
      "File \u001b[1;32md:\\pycharmproject\\ultralytics\\ultralytics\\utils\\torch_utils.py:226\u001b[0m, in \u001b[0;36mmodel_info\u001b[1;34m(model, detailed, verbose, imgsz)\u001b[0m\n\u001b[0;32m    222\u001b[0m         name \u001b[38;5;241m=\u001b[39m name\u001b[38;5;241m.\u001b[39mreplace(\u001b[38;5;124m'\u001b[39m\u001b[38;5;124mmodule_list.\u001b[39m\u001b[38;5;124m'\u001b[39m, \u001b[38;5;124m'\u001b[39m\u001b[38;5;124m'\u001b[39m)\n\u001b[0;32m    223\u001b[0m         LOGGER\u001b[38;5;241m.\u001b[39minfo(\u001b[38;5;124m'\u001b[39m\u001b[38;5;132;01m%5g\u001b[39;00m\u001b[38;5;124m \u001b[39m\u001b[38;5;132;01m%40s\u001b[39;00m\u001b[38;5;124m \u001b[39m\u001b[38;5;132;01m%9s\u001b[39;00m\u001b[38;5;124m \u001b[39m\u001b[38;5;132;01m%12g\u001b[39;00m\u001b[38;5;124m \u001b[39m\u001b[38;5;132;01m%20s\u001b[39;00m\u001b[38;5;124m \u001b[39m\u001b[38;5;132;01m%10.3g\u001b[39;00m\u001b[38;5;124m \u001b[39m\u001b[38;5;132;01m%10.3g\u001b[39;00m\u001b[38;5;124m \u001b[39m\u001b[38;5;132;01m%10s\u001b[39;00m\u001b[38;5;124m'\u001b[39m \u001b[38;5;241m%\u001b[39m\n\u001b[0;32m    224\u001b[0m                     (i, name, p\u001b[38;5;241m.\u001b[39mrequires_grad, p\u001b[38;5;241m.\u001b[39mnumel(), \u001b[38;5;28mlist\u001b[39m(p\u001b[38;5;241m.\u001b[39mshape), p\u001b[38;5;241m.\u001b[39mmean(), p\u001b[38;5;241m.\u001b[39mstd(), p\u001b[38;5;241m.\u001b[39mdtype))\n\u001b[1;32m--> 226\u001b[0m flops \u001b[38;5;241m=\u001b[39m \u001b[43mget_flops\u001b[49m\u001b[43m(\u001b[49m\u001b[43mmodel\u001b[49m\u001b[43m,\u001b[49m\u001b[43m \u001b[49m\u001b[43mimgsz\u001b[49m\u001b[43m)\u001b[49m\n\u001b[0;32m    227\u001b[0m fused \u001b[38;5;241m=\u001b[39m \u001b[38;5;124m'\u001b[39m\u001b[38;5;124m (fused)\u001b[39m\u001b[38;5;124m'\u001b[39m \u001b[38;5;28;01mif\u001b[39;00m \u001b[38;5;28mgetattr\u001b[39m(model, \u001b[38;5;124m'\u001b[39m\u001b[38;5;124mis_fused\u001b[39m\u001b[38;5;124m'\u001b[39m, \u001b[38;5;28;01mlambda\u001b[39;00m: \u001b[38;5;28;01mFalse\u001b[39;00m)() \u001b[38;5;28;01melse\u001b[39;00m \u001b[38;5;124m'\u001b[39m\u001b[38;5;124m'\u001b[39m\n\u001b[0;32m    228\u001b[0m fs \u001b[38;5;241m=\u001b[39m \u001b[38;5;124mf\u001b[39m\u001b[38;5;124m'\u001b[39m\u001b[38;5;124m, \u001b[39m\u001b[38;5;132;01m{\u001b[39;00mflops\u001b[38;5;132;01m:\u001b[39;00m\u001b[38;5;124m.1f\u001b[39m\u001b[38;5;132;01m}\u001b[39;00m\u001b[38;5;124m GFLOPs\u001b[39m\u001b[38;5;124m'\u001b[39m \u001b[38;5;28;01mif\u001b[39;00m flops \u001b[38;5;28;01melse\u001b[39;00m \u001b[38;5;124m'\u001b[39m\u001b[38;5;124m'\u001b[39m\n",
      "File \u001b[1;32md:\\pycharmproject\\ultralytics\\ultralytics\\utils\\torch_utils.py:282\u001b[0m, in \u001b[0;36mget_flops\u001b[1;34m(model, imgsz)\u001b[0m\n\u001b[0;32m    280\u001b[0m \u001b[38;5;28;01melse\u001b[39;00m:\n\u001b[0;32m    281\u001b[0m     im \u001b[38;5;241m=\u001b[39m torch\u001b[38;5;241m.\u001b[39mempty((\u001b[38;5;241m1\u001b[39m, p\u001b[38;5;241m.\u001b[39mshape[\u001b[38;5;241m1\u001b[39m], stride, stride), device\u001b[38;5;241m=\u001b[39mp\u001b[38;5;241m.\u001b[39mdevice)  \u001b[38;5;66;03m# input image in BCHW format\u001b[39;00m\n\u001b[1;32m--> 282\u001b[0m flops \u001b[38;5;241m=\u001b[39m \u001b[43mthop\u001b[49m\u001b[38;5;241;43m.\u001b[39;49m\u001b[43mprofile\u001b[49m\u001b[43m(\u001b[49m\u001b[43mdeepcopy\u001b[49m\u001b[43m(\u001b[49m\u001b[43mmodel\u001b[49m\u001b[43m)\u001b[49m\u001b[43m,\u001b[49m\u001b[43m \u001b[49m\u001b[43minputs\u001b[49m\u001b[38;5;241;43m=\u001b[39;49m\u001b[43m[\u001b[49m\u001b[43mim\u001b[49m\u001b[43m]\u001b[49m\u001b[43m,\u001b[49m\u001b[43m \u001b[49m\u001b[43mverbose\u001b[49m\u001b[38;5;241;43m=\u001b[39;49m\u001b[38;5;28;43;01mFalse\u001b[39;49;00m\u001b[43m)\u001b[49m[\u001b[38;5;241m0\u001b[39m] \u001b[38;5;241m/\u001b[39m \u001b[38;5;241m1E9\u001b[39m \u001b[38;5;241m*\u001b[39m \u001b[38;5;241m2\u001b[39m \u001b[38;5;28;01mif\u001b[39;00m thop \u001b[38;5;28;01melse\u001b[39;00m \u001b[38;5;241m0\u001b[39m  \u001b[38;5;66;03m# stride GFLOPs\u001b[39;00m\n\u001b[0;32m    283\u001b[0m imgsz \u001b[38;5;241m=\u001b[39m imgsz \u001b[38;5;28;01mif\u001b[39;00m \u001b[38;5;28misinstance\u001b[39m(imgsz, \u001b[38;5;28mlist\u001b[39m) \u001b[38;5;28;01melse\u001b[39;00m [imgsz, imgsz]  \u001b[38;5;66;03m# expand if int/float\u001b[39;00m\n\u001b[0;32m    284\u001b[0m \u001b[38;5;28;01mreturn\u001b[39;00m flops \u001b[38;5;241m*\u001b[39m imgsz[\u001b[38;5;241m0\u001b[39m] \u001b[38;5;241m/\u001b[39m stride \u001b[38;5;241m*\u001b[39m imgsz[\u001b[38;5;241m1\u001b[39m] \u001b[38;5;241m/\u001b[39m stride  \u001b[38;5;66;03m# 640x640 GFLOPs\u001b[39;00m\n",
      "File \u001b[1;32mD:\\ProgramData\\Miniconda3\\envs\\TransTrack\\lib\\site-packages\\thop\\profile.py:212\u001b[0m, in \u001b[0;36mprofile\u001b[1;34m(model, inputs, custom_ops, verbose, ret_layer_info, report_missing)\u001b[0m\n\u001b[0;32m    209\u001b[0m model\u001b[38;5;241m.\u001b[39mapply(add_hooks)\n\u001b[0;32m    211\u001b[0m \u001b[38;5;28;01mwith\u001b[39;00m torch\u001b[38;5;241m.\u001b[39mno_grad():\n\u001b[1;32m--> 212\u001b[0m     \u001b[43mmodel\u001b[49m\u001b[43m(\u001b[49m\u001b[38;5;241;43m*\u001b[39;49m\u001b[43minputs\u001b[49m\u001b[43m)\u001b[49m\n\u001b[0;32m    214\u001b[0m \u001b[38;5;28;01mdef\u001b[39;00m \u001b[38;5;21mdfs_count\u001b[39m(module: nn\u001b[38;5;241m.\u001b[39mModule, prefix\u001b[38;5;241m=\u001b[39m\u001b[38;5;124m\"\u001b[39m\u001b[38;5;130;01m\\t\u001b[39;00m\u001b[38;5;124m\"\u001b[39m) \u001b[38;5;241m-\u001b[39m\u001b[38;5;241m>\u001b[39m (\u001b[38;5;28mint\u001b[39m, \u001b[38;5;28mint\u001b[39m):\n\u001b[0;32m    215\u001b[0m     total_ops, total_params \u001b[38;5;241m=\u001b[39m module\u001b[38;5;241m.\u001b[39mtotal_ops\u001b[38;5;241m.\u001b[39mitem(), \u001b[38;5;241m0\u001b[39m\n",
      "File \u001b[1;32mD:\\ProgramData\\Miniconda3\\envs\\TransTrack\\lib\\site-packages\\torch\\nn\\modules\\module.py:1110\u001b[0m, in \u001b[0;36mModule._call_impl\u001b[1;34m(self, *input, **kwargs)\u001b[0m\n\u001b[0;32m   1106\u001b[0m \u001b[38;5;66;03m# If we don't have any hooks, we want to skip the rest of the logic in\u001b[39;00m\n\u001b[0;32m   1107\u001b[0m \u001b[38;5;66;03m# this function, and just call forward.\u001b[39;00m\n\u001b[0;32m   1108\u001b[0m \u001b[38;5;28;01mif\u001b[39;00m \u001b[38;5;129;01mnot\u001b[39;00m (\u001b[38;5;28mself\u001b[39m\u001b[38;5;241m.\u001b[39m_backward_hooks \u001b[38;5;129;01mor\u001b[39;00m \u001b[38;5;28mself\u001b[39m\u001b[38;5;241m.\u001b[39m_forward_hooks \u001b[38;5;129;01mor\u001b[39;00m \u001b[38;5;28mself\u001b[39m\u001b[38;5;241m.\u001b[39m_forward_pre_hooks \u001b[38;5;129;01mor\u001b[39;00m _global_backward_hooks\n\u001b[0;32m   1109\u001b[0m         \u001b[38;5;129;01mor\u001b[39;00m _global_forward_hooks \u001b[38;5;129;01mor\u001b[39;00m _global_forward_pre_hooks):\n\u001b[1;32m-> 1110\u001b[0m     \u001b[38;5;28;01mreturn\u001b[39;00m \u001b[43mforward_call\u001b[49m\u001b[43m(\u001b[49m\u001b[38;5;241;43m*\u001b[39;49m\u001b[38;5;28;43minput\u001b[39;49m\u001b[43m,\u001b[49m\u001b[43m \u001b[49m\u001b[38;5;241;43m*\u001b[39;49m\u001b[38;5;241;43m*\u001b[39;49m\u001b[43mkwargs\u001b[49m\u001b[43m)\u001b[49m\n\u001b[0;32m   1111\u001b[0m \u001b[38;5;66;03m# Do not call functions when jit is used\u001b[39;00m\n\u001b[0;32m   1112\u001b[0m full_backward_hooks, non_full_backward_hooks \u001b[38;5;241m=\u001b[39m [], []\n",
      "File \u001b[1;32md:\\pycharmproject\\ultralytics\\ultralytics\\nn\\tasks.py:42\u001b[0m, in \u001b[0;36mBaseModel.forward\u001b[1;34m(self, x, *args, **kwargs)\u001b[0m\n\u001b[0;32m     40\u001b[0m \u001b[38;5;28;01mif\u001b[39;00m \u001b[38;5;28misinstance\u001b[39m(x, \u001b[38;5;28mdict\u001b[39m):  \u001b[38;5;66;03m# for cases of training and validating while training.\u001b[39;00m\n\u001b[0;32m     41\u001b[0m     \u001b[38;5;28;01mreturn\u001b[39;00m \u001b[38;5;28mself\u001b[39m\u001b[38;5;241m.\u001b[39mloss(x, \u001b[38;5;241m*\u001b[39margs, \u001b[38;5;241m*\u001b[39m\u001b[38;5;241m*\u001b[39mkwargs)\n\u001b[1;32m---> 42\u001b[0m \u001b[38;5;28;01mreturn\u001b[39;00m \u001b[38;5;28;43mself\u001b[39;49m\u001b[38;5;241;43m.\u001b[39;49m\u001b[43mpredict\u001b[49m\u001b[43m(\u001b[49m\u001b[43mx\u001b[49m\u001b[43m,\u001b[49m\u001b[43m \u001b[49m\u001b[38;5;241;43m*\u001b[39;49m\u001b[43margs\u001b[49m\u001b[43m,\u001b[49m\u001b[43m \u001b[49m\u001b[38;5;241;43m*\u001b[39;49m\u001b[38;5;241;43m*\u001b[39;49m\u001b[43mkwargs\u001b[49m\u001b[43m)\u001b[49m\n",
      "File \u001b[1;32md:\\pycharmproject\\ultralytics\\ultralytics\\nn\\tasks.py:59\u001b[0m, in \u001b[0;36mBaseModel.predict\u001b[1;34m(self, x, profile, visualize, augment)\u001b[0m\n\u001b[0;32m     57\u001b[0m \u001b[38;5;28;01mif\u001b[39;00m augment:\n\u001b[0;32m     58\u001b[0m     \u001b[38;5;28;01mreturn\u001b[39;00m \u001b[38;5;28mself\u001b[39m\u001b[38;5;241m.\u001b[39m_predict_augment(x)\n\u001b[1;32m---> 59\u001b[0m \u001b[38;5;28;01mreturn\u001b[39;00m \u001b[38;5;28;43mself\u001b[39;49m\u001b[38;5;241;43m.\u001b[39;49m\u001b[43m_predict_once\u001b[49m\u001b[43m(\u001b[49m\u001b[43mx\u001b[49m\u001b[43m,\u001b[49m\u001b[43m \u001b[49m\u001b[43mprofile\u001b[49m\u001b[43m,\u001b[49m\u001b[43m \u001b[49m\u001b[43mvisualize\u001b[49m\u001b[43m)\u001b[49m\n",
      "File \u001b[1;32md:\\pycharmproject\\ultralytics\\ultralytics\\nn\\tasks.py:79\u001b[0m, in \u001b[0;36mBaseModel._predict_once\u001b[1;34m(self, x, profile, visualize)\u001b[0m\n\u001b[0;32m     77\u001b[0m \u001b[38;5;28;01mif\u001b[39;00m profile:\n\u001b[0;32m     78\u001b[0m     \u001b[38;5;28mself\u001b[39m\u001b[38;5;241m.\u001b[39m_profile_one_layer(m, x, dt)\n\u001b[1;32m---> 79\u001b[0m x \u001b[38;5;241m=\u001b[39m \u001b[43mm\u001b[49m\u001b[43m(\u001b[49m\u001b[43mx\u001b[49m\u001b[43m)\u001b[49m  \u001b[38;5;66;03m# run\u001b[39;00m\n\u001b[0;32m     80\u001b[0m y\u001b[38;5;241m.\u001b[39mappend(x \u001b[38;5;28;01mif\u001b[39;00m m\u001b[38;5;241m.\u001b[39mi \u001b[38;5;129;01min\u001b[39;00m \u001b[38;5;28mself\u001b[39m\u001b[38;5;241m.\u001b[39msave \u001b[38;5;28;01melse\u001b[39;00m \u001b[38;5;28;01mNone\u001b[39;00m)  \u001b[38;5;66;03m# save output\u001b[39;00m\n\u001b[0;32m     81\u001b[0m \u001b[38;5;28;01mif\u001b[39;00m visualize:\n",
      "File \u001b[1;32mD:\\ProgramData\\Miniconda3\\envs\\TransTrack\\lib\\site-packages\\torch\\nn\\modules\\module.py:1110\u001b[0m, in \u001b[0;36mModule._call_impl\u001b[1;34m(self, *input, **kwargs)\u001b[0m\n\u001b[0;32m   1106\u001b[0m \u001b[38;5;66;03m# If we don't have any hooks, we want to skip the rest of the logic in\u001b[39;00m\n\u001b[0;32m   1107\u001b[0m \u001b[38;5;66;03m# this function, and just call forward.\u001b[39;00m\n\u001b[0;32m   1108\u001b[0m \u001b[38;5;28;01mif\u001b[39;00m \u001b[38;5;129;01mnot\u001b[39;00m (\u001b[38;5;28mself\u001b[39m\u001b[38;5;241m.\u001b[39m_backward_hooks \u001b[38;5;129;01mor\u001b[39;00m \u001b[38;5;28mself\u001b[39m\u001b[38;5;241m.\u001b[39m_forward_hooks \u001b[38;5;129;01mor\u001b[39;00m \u001b[38;5;28mself\u001b[39m\u001b[38;5;241m.\u001b[39m_forward_pre_hooks \u001b[38;5;129;01mor\u001b[39;00m _global_backward_hooks\n\u001b[0;32m   1109\u001b[0m         \u001b[38;5;129;01mor\u001b[39;00m _global_forward_hooks \u001b[38;5;129;01mor\u001b[39;00m _global_forward_pre_hooks):\n\u001b[1;32m-> 1110\u001b[0m     \u001b[38;5;28;01mreturn\u001b[39;00m \u001b[43mforward_call\u001b[49m\u001b[43m(\u001b[49m\u001b[38;5;241;43m*\u001b[39;49m\u001b[38;5;28;43minput\u001b[39;49m\u001b[43m,\u001b[49m\u001b[43m \u001b[49m\u001b[38;5;241;43m*\u001b[39;49m\u001b[38;5;241;43m*\u001b[39;49m\u001b[43mkwargs\u001b[49m\u001b[43m)\u001b[49m\n\u001b[0;32m   1111\u001b[0m \u001b[38;5;66;03m# Do not call functions when jit is used\u001b[39;00m\n\u001b[0;32m   1112\u001b[0m full_backward_hooks, non_full_backward_hooks \u001b[38;5;241m=\u001b[39m [], []\n",
      "File \u001b[1;32md:\\pycharmproject\\ultralytics\\ultralytics\\nn\\modules\\conv.py:40\u001b[0m, in \u001b[0;36mConv.forward_fuse\u001b[1;34m(self, x)\u001b[0m\n\u001b[0;32m     38\u001b[0m \u001b[38;5;28;01mdef\u001b[39;00m \u001b[38;5;21mforward_fuse\u001b[39m(\u001b[38;5;28mself\u001b[39m, x):\n\u001b[0;32m     39\u001b[0m     \u001b[38;5;124;03m\"\"\"Perform transposed convolution of 2D data.\"\"\"\u001b[39;00m\n\u001b[1;32m---> 40\u001b[0m     \u001b[38;5;28;01mreturn\u001b[39;00m \u001b[38;5;28mself\u001b[39m\u001b[38;5;241m.\u001b[39mact(\u001b[38;5;28;43mself\u001b[39;49m\u001b[38;5;241;43m.\u001b[39;49m\u001b[43mconv\u001b[49m\u001b[43m(\u001b[49m\u001b[43mx\u001b[49m\u001b[43m)\u001b[49m)\n",
      "File \u001b[1;32mD:\\ProgramData\\Miniconda3\\envs\\TransTrack\\lib\\site-packages\\torch\\nn\\modules\\module.py:1128\u001b[0m, in \u001b[0;36mModule._call_impl\u001b[1;34m(self, *input, **kwargs)\u001b[0m\n\u001b[0;32m   1125\u001b[0m     bw_hook \u001b[38;5;241m=\u001b[39m hooks\u001b[38;5;241m.\u001b[39mBackwardHook(\u001b[38;5;28mself\u001b[39m, full_backward_hooks)\n\u001b[0;32m   1126\u001b[0m     \u001b[38;5;28minput\u001b[39m \u001b[38;5;241m=\u001b[39m bw_hook\u001b[38;5;241m.\u001b[39msetup_input_hook(\u001b[38;5;28minput\u001b[39m)\n\u001b[1;32m-> 1128\u001b[0m result \u001b[38;5;241m=\u001b[39m \u001b[43mforward_call\u001b[49m\u001b[43m(\u001b[49m\u001b[38;5;241;43m*\u001b[39;49m\u001b[38;5;28;43minput\u001b[39;49m\u001b[43m,\u001b[49m\u001b[43m \u001b[49m\u001b[38;5;241;43m*\u001b[39;49m\u001b[38;5;241;43m*\u001b[39;49m\u001b[43mkwargs\u001b[49m\u001b[43m)\u001b[49m\n\u001b[0;32m   1129\u001b[0m \u001b[38;5;28;01mif\u001b[39;00m _global_forward_hooks \u001b[38;5;129;01mor\u001b[39;00m \u001b[38;5;28mself\u001b[39m\u001b[38;5;241m.\u001b[39m_forward_hooks:\n\u001b[0;32m   1130\u001b[0m     \u001b[38;5;28;01mfor\u001b[39;00m hook \u001b[38;5;129;01min\u001b[39;00m (\u001b[38;5;241m*\u001b[39m_global_forward_hooks\u001b[38;5;241m.\u001b[39mvalues(), \u001b[38;5;241m*\u001b[39m\u001b[38;5;28mself\u001b[39m\u001b[38;5;241m.\u001b[39m_forward_hooks\u001b[38;5;241m.\u001b[39mvalues()):\n",
      "File \u001b[1;32mD:\\ProgramData\\Miniconda3\\envs\\TransTrack\\lib\\site-packages\\torch\\nn\\modules\\conv.py:447\u001b[0m, in \u001b[0;36mConv2d.forward\u001b[1;34m(self, input)\u001b[0m\n\u001b[0;32m    446\u001b[0m \u001b[38;5;28;01mdef\u001b[39;00m \u001b[38;5;21mforward\u001b[39m(\u001b[38;5;28mself\u001b[39m, \u001b[38;5;28minput\u001b[39m: Tensor) \u001b[38;5;241m-\u001b[39m\u001b[38;5;241m>\u001b[39m Tensor:\n\u001b[1;32m--> 447\u001b[0m     \u001b[38;5;28;01mreturn\u001b[39;00m \u001b[38;5;28;43mself\u001b[39;49m\u001b[38;5;241;43m.\u001b[39;49m\u001b[43m_conv_forward\u001b[49m\u001b[43m(\u001b[49m\u001b[38;5;28;43minput\u001b[39;49m\u001b[43m,\u001b[49m\u001b[43m \u001b[49m\u001b[38;5;28;43mself\u001b[39;49m\u001b[38;5;241;43m.\u001b[39;49m\u001b[43mweight\u001b[49m\u001b[43m,\u001b[49m\u001b[43m \u001b[49m\u001b[38;5;28;43mself\u001b[39;49m\u001b[38;5;241;43m.\u001b[39;49m\u001b[43mbias\u001b[49m\u001b[43m)\u001b[49m\n",
      "File \u001b[1;32mD:\\ProgramData\\Miniconda3\\envs\\TransTrack\\lib\\site-packages\\torch\\nn\\modules\\conv.py:443\u001b[0m, in \u001b[0;36mConv2d._conv_forward\u001b[1;34m(self, input, weight, bias)\u001b[0m\n\u001b[0;32m    439\u001b[0m \u001b[38;5;28;01mif\u001b[39;00m \u001b[38;5;28mself\u001b[39m\u001b[38;5;241m.\u001b[39mpadding_mode \u001b[38;5;241m!=\u001b[39m \u001b[38;5;124m'\u001b[39m\u001b[38;5;124mzeros\u001b[39m\u001b[38;5;124m'\u001b[39m:\n\u001b[0;32m    440\u001b[0m     \u001b[38;5;28;01mreturn\u001b[39;00m F\u001b[38;5;241m.\u001b[39mconv2d(F\u001b[38;5;241m.\u001b[39mpad(\u001b[38;5;28minput\u001b[39m, \u001b[38;5;28mself\u001b[39m\u001b[38;5;241m.\u001b[39m_reversed_padding_repeated_twice, mode\u001b[38;5;241m=\u001b[39m\u001b[38;5;28mself\u001b[39m\u001b[38;5;241m.\u001b[39mpadding_mode),\n\u001b[0;32m    441\u001b[0m                     weight, bias, \u001b[38;5;28mself\u001b[39m\u001b[38;5;241m.\u001b[39mstride,\n\u001b[0;32m    442\u001b[0m                     _pair(\u001b[38;5;241m0\u001b[39m), \u001b[38;5;28mself\u001b[39m\u001b[38;5;241m.\u001b[39mdilation, \u001b[38;5;28mself\u001b[39m\u001b[38;5;241m.\u001b[39mgroups)\n\u001b[1;32m--> 443\u001b[0m \u001b[38;5;28;01mreturn\u001b[39;00m \u001b[43mF\u001b[49m\u001b[38;5;241;43m.\u001b[39;49m\u001b[43mconv2d\u001b[49m\u001b[43m(\u001b[49m\u001b[38;5;28;43minput\u001b[39;49m\u001b[43m,\u001b[49m\u001b[43m \u001b[49m\u001b[43mweight\u001b[49m\u001b[43m,\u001b[49m\u001b[43m \u001b[49m\u001b[43mbias\u001b[49m\u001b[43m,\u001b[49m\u001b[43m \u001b[49m\u001b[38;5;28;43mself\u001b[39;49m\u001b[38;5;241;43m.\u001b[39;49m\u001b[43mstride\u001b[49m\u001b[43m,\u001b[49m\n\u001b[0;32m    444\u001b[0m \u001b[43m                \u001b[49m\u001b[38;5;28;43mself\u001b[39;49m\u001b[38;5;241;43m.\u001b[39;49m\u001b[43mpadding\u001b[49m\u001b[43m,\u001b[49m\u001b[43m \u001b[49m\u001b[38;5;28;43mself\u001b[39;49m\u001b[38;5;241;43m.\u001b[39;49m\u001b[43mdilation\u001b[49m\u001b[43m,\u001b[49m\u001b[43m \u001b[49m\u001b[38;5;28;43mself\u001b[39;49m\u001b[38;5;241;43m.\u001b[39;49m\u001b[43mgroups\u001b[49m\u001b[43m)\u001b[49m\n",
      "\u001b[1;31mKeyboardInterrupt\u001b[0m: "
     ]
    }
   ],
   "source": [
    "from ultralytics.models.yolo.detect import DetectionValidator\n",
    "\n",
    "args = dict(task = 'detect', mode = 'val', model='./weights/yolov8l.pt',data='../../../cfg/datasets/LLVIP-infrared.yaml')\n",
    "validator = DetectionValidator(args=args)\n",
    "validator()"
   ]
  },
  {
   "cell_type": "code",
   "execution_count": 1,
   "id": "48ab5121",
   "metadata": {},
   "outputs": [
    {
     "name": "stderr",
     "output_type": "stream",
     "text": [
      "Ultralytics YOLOv8.0.201  Python-3.8.13 torch-1.11.0 CUDA:0 (NVIDIA GeForce RTX 3060, 12288MiB)\n",
      "YOLOv8l summary (fused): 268 layers, 43668288 parameters, 0 gradients, 165.2 GFLOPs\n",
      "\u001b[34m\u001b[1mval: \u001b[0mScanning D:\\LLVIP\\labels\\visible\\test.cache... 3463 images, 0 backgrounds, 0 corrupt: 100%|██████████| 3463/3463 [\u001b[0m\n",
      "                 Class     Images  Instances      Box(P          R      mAP50      mAP75      mAP90  mAP50-95): 100%|██\n",
      "                   all       3463       7931      0.899       0.76      0.844      0.523     0.0412      0.491\n"
     ]
    },
    {
     "ename": "TypeError",
     "evalue": "not enough arguments for format string",
     "output_type": "error",
     "traceback": [
      "\u001b[1;31m---------------------------------------------------------------------------\u001b[0m",
      "\u001b[1;31mTypeError\u001b[0m                                 Traceback (most recent call last)",
      "Cell \u001b[1;32mIn [1], line 5\u001b[0m\n\u001b[0;32m      3\u001b[0m args \u001b[38;5;241m=\u001b[39m \u001b[38;5;28mdict\u001b[39m(task \u001b[38;5;241m=\u001b[39m \u001b[38;5;124m'\u001b[39m\u001b[38;5;124mdetect\u001b[39m\u001b[38;5;124m'\u001b[39m, mode \u001b[38;5;241m=\u001b[39m \u001b[38;5;124m'\u001b[39m\u001b[38;5;124mval\u001b[39m\u001b[38;5;124m'\u001b[39m, model\u001b[38;5;241m=\u001b[39m\u001b[38;5;124m'\u001b[39m\u001b[38;5;124m./weights/yolov8l.pt\u001b[39m\u001b[38;5;124m'\u001b[39m, data\u001b[38;5;241m=\u001b[39m\u001b[38;5;124m'\u001b[39m\u001b[38;5;124m../../../cfg/datasets/LLVIP-vis.yaml\u001b[39m\u001b[38;5;124m'\u001b[39m,project\u001b[38;5;241m=\u001b[39m\u001b[38;5;124m'\u001b[39m\u001b[38;5;124mv8_detect\u001b[39m\u001b[38;5;124m'\u001b[39m,name\u001b[38;5;241m=\u001b[39m\u001b[38;5;124m'\u001b[39m\u001b[38;5;124myolov8l_val_LLVIP-infrared\u001b[39m\u001b[38;5;124m'\u001b[39m)\n\u001b[0;32m      4\u001b[0m validator \u001b[38;5;241m=\u001b[39m DetectionValidator(args\u001b[38;5;241m=\u001b[39margs)\n\u001b[1;32m----> 5\u001b[0m validator()\n",
      "File \u001b[1;32mD:\\ProgramData\\Miniconda3\\envs\\TransTrack\\lib\\site-packages\\torch\\autograd\\grad_mode.py:27\u001b[0m, in \u001b[0;36m_DecoratorContextManager.__call__.<locals>.decorate_context\u001b[1;34m(*args, **kwargs)\u001b[0m\n\u001b[0;32m     24\u001b[0m \u001b[38;5;129m@functools\u001b[39m\u001b[38;5;241m.\u001b[39mwraps(func)\n\u001b[0;32m     25\u001b[0m \u001b[38;5;28;01mdef\u001b[39;00m \u001b[38;5;21mdecorate_context\u001b[39m(\u001b[38;5;241m*\u001b[39margs, \u001b[38;5;241m*\u001b[39m\u001b[38;5;241m*\u001b[39mkwargs):\n\u001b[0;32m     26\u001b[0m     \u001b[38;5;28;01mwith\u001b[39;00m \u001b[38;5;28mself\u001b[39m\u001b[38;5;241m.\u001b[39mclone():\n\u001b[1;32m---> 27\u001b[0m         \u001b[38;5;28;01mreturn\u001b[39;00m \u001b[43mfunc\u001b[49m\u001b[43m(\u001b[49m\u001b[38;5;241;43m*\u001b[39;49m\u001b[43margs\u001b[49m\u001b[43m,\u001b[49m\u001b[43m \u001b[49m\u001b[38;5;241;43m*\u001b[39;49m\u001b[38;5;241;43m*\u001b[39;49m\u001b[43mkwargs\u001b[49m\u001b[43m)\u001b[49m\n",
      "File \u001b[1;32md:\\pycharmproject\\ultralytics\\ultralytics\\engine\\validator.py:189\u001b[0m, in \u001b[0;36mBaseValidator.__call__\u001b[1;34m(self, trainer, model)\u001b[0m\n\u001b[0;32m    187\u001b[0m \u001b[38;5;28mself\u001b[39m\u001b[38;5;241m.\u001b[39mspeed \u001b[38;5;241m=\u001b[39m \u001b[38;5;28mdict\u001b[39m(\u001b[38;5;28mzip\u001b[39m(\u001b[38;5;28mself\u001b[39m\u001b[38;5;241m.\u001b[39mspeed\u001b[38;5;241m.\u001b[39mkeys(), (x\u001b[38;5;241m.\u001b[39mt \u001b[38;5;241m/\u001b[39m \u001b[38;5;28mlen\u001b[39m(\u001b[38;5;28mself\u001b[39m\u001b[38;5;241m.\u001b[39mdataloader\u001b[38;5;241m.\u001b[39mdataset) \u001b[38;5;241m*\u001b[39m \u001b[38;5;241m1E3\u001b[39m \u001b[38;5;28;01mfor\u001b[39;00m x \u001b[38;5;129;01min\u001b[39;00m dt)))\n\u001b[0;32m    188\u001b[0m \u001b[38;5;28mself\u001b[39m\u001b[38;5;241m.\u001b[39mfinalize_metrics()\n\u001b[1;32m--> 189\u001b[0m \u001b[38;5;28;43mself\u001b[39;49m\u001b[38;5;241;43m.\u001b[39;49m\u001b[43mprint_results\u001b[49m\u001b[43m(\u001b[49m\u001b[43m)\u001b[49m\n\u001b[0;32m    190\u001b[0m \u001b[38;5;28mself\u001b[39m\u001b[38;5;241m.\u001b[39mrun_callbacks(\u001b[38;5;124m'\u001b[39m\u001b[38;5;124mon_val_end\u001b[39m\u001b[38;5;124m'\u001b[39m)\n\u001b[0;32m    191\u001b[0m \u001b[38;5;28;01mif\u001b[39;00m \u001b[38;5;28mself\u001b[39m\u001b[38;5;241m.\u001b[39mtraining:\n",
      "File \u001b[1;32md:\\pycharmproject\\ultralytics\\ultralytics\\models\\yolo\\detect\\val.py:162\u001b[0m, in \u001b[0;36mDetectionValidator.print_results\u001b[1;34m(self)\u001b[0m\n\u001b[0;32m    160\u001b[0m \u001b[38;5;28;01mif\u001b[39;00m \u001b[38;5;28mself\u001b[39m\u001b[38;5;241m.\u001b[39margs\u001b[38;5;241m.\u001b[39mverbose \u001b[38;5;129;01mand\u001b[39;00m \u001b[38;5;129;01mnot\u001b[39;00m \u001b[38;5;28mself\u001b[39m\u001b[38;5;241m.\u001b[39mtraining \u001b[38;5;129;01mand\u001b[39;00m \u001b[38;5;28mself\u001b[39m\u001b[38;5;241m.\u001b[39mnc \u001b[38;5;241m>\u001b[39m \u001b[38;5;241m1\u001b[39m \u001b[38;5;129;01mand\u001b[39;00m \u001b[38;5;28mlen\u001b[39m(\u001b[38;5;28mself\u001b[39m\u001b[38;5;241m.\u001b[39mstats):\n\u001b[0;32m    161\u001b[0m     \u001b[38;5;28;01mfor\u001b[39;00m i, c \u001b[38;5;129;01min\u001b[39;00m \u001b[38;5;28menumerate\u001b[39m(\u001b[38;5;28mself\u001b[39m\u001b[38;5;241m.\u001b[39mmetrics\u001b[38;5;241m.\u001b[39map_class_index):\n\u001b[1;32m--> 162\u001b[0m         LOGGER\u001b[38;5;241m.\u001b[39minfo(\u001b[43mpf\u001b[49m\u001b[43m \u001b[49m\u001b[38;5;241;43m%\u001b[39;49m\u001b[43m \u001b[49m\u001b[43m(\u001b[49m\u001b[38;5;28;43mself\u001b[39;49m\u001b[38;5;241;43m.\u001b[39;49m\u001b[43mnames\u001b[49m\u001b[43m[\u001b[49m\u001b[43mc\u001b[49m\u001b[43m]\u001b[49m\u001b[43m,\u001b[49m\u001b[43m \u001b[49m\u001b[38;5;28;43mself\u001b[39;49m\u001b[38;5;241;43m.\u001b[39;49m\u001b[43mseen\u001b[49m\u001b[43m,\u001b[49m\u001b[43m \u001b[49m\u001b[38;5;28;43mself\u001b[39;49m\u001b[38;5;241;43m.\u001b[39;49m\u001b[43mnt_per_class\u001b[49m\u001b[43m[\u001b[49m\u001b[43mc\u001b[49m\u001b[43m]\u001b[49m\u001b[43m,\u001b[49m\u001b[43m \u001b[49m\u001b[38;5;241;43m*\u001b[39;49m\u001b[38;5;28;43mself\u001b[39;49m\u001b[38;5;241;43m.\u001b[39;49m\u001b[43mmetrics\u001b[49m\u001b[38;5;241;43m.\u001b[39;49m\u001b[43mclass_result\u001b[49m\u001b[43m(\u001b[49m\u001b[43mi\u001b[49m\u001b[43m)\u001b[49m\u001b[43m)\u001b[49m)\n\u001b[0;32m    164\u001b[0m \u001b[38;5;28;01mif\u001b[39;00m \u001b[38;5;28mself\u001b[39m\u001b[38;5;241m.\u001b[39margs\u001b[38;5;241m.\u001b[39mplots:\n\u001b[0;32m    165\u001b[0m     \u001b[38;5;28;01mfor\u001b[39;00m normalize \u001b[38;5;129;01min\u001b[39;00m \u001b[38;5;28;01mTrue\u001b[39;00m, \u001b[38;5;28;01mFalse\u001b[39;00m:\n",
      "\u001b[1;31mTypeError\u001b[0m: not enough arguments for format string"
     ]
    }
   ],
   "source": [
    "from ultralytics.models.yolo.detect import DetectionValidator\n",
    "\n",
    "args = dict(task = 'detect', mode = 'val', model='./weights/yolov8l.pt', data='../../../cfg/datasets/LLVIP-vis.yaml',project='v8_detect',name='yolov8l_val_LLVIP-infrared')\n",
    "validator = DetectionValidator(args=args)\n",
    "validator()"
   ]
  },
  {
   "cell_type": "code",
   "execution_count": null,
   "id": "a51db335",
   "metadata": {},
   "outputs": [],
   "source": []
  }
 ],
 "metadata": {
  "kernelspec": {
   "display_name": "Python 3 (ipykernel)",
   "language": "python",
   "name": "python3"
  },
  "language_info": {
   "codemirror_mode": {
    "name": "ipython",
    "version": 3
   },
   "file_extension": ".py",
   "mimetype": "text/x-python",
   "name": "python",
   "nbconvert_exporter": "python",
   "pygments_lexer": "ipython3",
   "version": "3.8.13"
  }
 },
 "nbformat": 4,
 "nbformat_minor": 5
}
